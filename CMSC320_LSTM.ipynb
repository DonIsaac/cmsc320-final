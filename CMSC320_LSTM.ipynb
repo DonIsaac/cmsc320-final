{
  "cells": [
    {
      "cell_type": "markdown",
      "metadata": {
        "id": "CGx1HIVkuwdj"
      },
      "source": [
        "# Predicting StackOverflow Answer Scores with Machine Learning\n",
        "\n",
        "**Donald Isaac**\n",
        "\n",
        "12/20/2021\n",
        "\n"
      ]
    },
    {
      "cell_type": "markdown",
      "metadata": {
        "id": "mxRinyTwfDRn"
      },
      "source": [
        "## Abstract\n",
        "\n",
        "Source code quality is an important yet vague and subjective property. It may refer to performance, maintainability, readability, etc. This project attempts to measure this fuzzy construct using upvotes on stack overflow answers as a proxy. A variety of regression models are tested, including Random Forests and [Long-Short-Term-Memory](https://www.bioinf.jku.at/publications/older/2604.pdf) (LSTM) RNNs."
      ]
    },
    {
      "cell_type": "markdown",
      "metadata": {
        "id": "8ImjKiZ3u67U"
      },
      "source": [
        "## Table of Contents\n",
        "\n",
        "1. [Introduction](#Introduction)\n",
        "2. [Preparation](#Preparation)\n",
        "3. [Training the Models](#My-Machine-Learns-But-I-Don't)\n",
        "4. [Conclusion](#Conclusion)"
      ]
    },
    {
      "cell_type": "markdown",
      "metadata": {
        "id": "a4LPAXSZtoVR"
      },
      "source": [
        "# Introduction\n",
        "\n",
        "Source code quality management is an important and active area of research and engineering efforts. Automated tools such as linters, code smell detectors, and other static analysis systems are often used in Continuous Integration (CI) pipelines to manage code quality during development.\n",
        "\n",
        "These tools usually operate on Abstract Syntax Trees (ASTs) and enforce a fixed, limited set of rules. As such, they tend to be limited in scope, detection ability, and adaptability. For example, linters tend focus their scope on syntax and style. New style rules are implemented as functions that analyze a program's AST and are then imported via a configuration file. This is a time consuming and inflexible process.\n",
        "\n",
        "An ideal tool would be able to detect patterns in source code that make it \"good\" or \"bad\". It would be able to detect quality over a broad range of domains, such as readability, maintainability, and performance. It would also be able to adapt its definitions of quality over time, learning on new code examples.\n",
        "\n",
        "This project attempts to find a machine learning model capable of determining an understanding of code quality by scraping code snippets from over 200k Stack Overflow answers and using their scores as a proxy metric. I focus on code written in C to reduce cross-language variance."
      ]
    },
    {
      "cell_type": "markdown",
      "metadata": {
        "id": "7wciZibYgTCF"
      },
      "source": [
        "## Setup\n",
        "\n",
        "This section details the runtime setup and environment I used with the goal of promoting reproducibility. If you are not interested in setup details, you should skip to the [preparation section](#preparation).\n",
        "\n",
        "This code was run with Google Colab on a High-RAM + GPU runtime using Python 3.7.12. I used TensorFlow + Keras for constructing Neural Networks and SKLearn for all other machine learning tasks.\n"
      ]
    },
    {
      "cell_type": "code",
      "execution_count": null,
      "metadata": {
        "id": "-xMx52_rqple"
      },
      "outputs": [],
      "source": [
        "# Check Python and OS versions\n",
        "!python --version\n",
        "!echo \"\"\n",
        "\n",
        "!uname -msrv\n",
        "!echo \"\"\n",
        "\n",
        "!lsb_release -a\n"
      ]
    },
    {
      "cell_type": "markdown",
      "metadata": {
        "id": "irW17JDi70r0"
      },
      "source": [
        "### Check Cuda/GPU/cuDNN Availability"
      ]
    },
    {
      "cell_type": "code",
      "execution_count": null,
      "metadata": {
        "id": "rGXpGGZ9vfs9"
      },
      "outputs": [],
      "source": [
        "# Check CUDA/cuDNN Version\n",
        "!nvcc -V && which nvcc"
      ]
    },
    {
      "cell_type": "code",
      "execution_count": null,
      "metadata": {
        "id": "Pg8V76THvhlI"
      },
      "outputs": [],
      "source": [
        "# Check GPU\n",
        "!nvidia-smi"
      ]
    },
    {
      "cell_type": "markdown",
      "metadata": {
        "id": "HhWrcN4j8CDM"
      },
      "source": [
        "### Install Extra Packages"
      ]
    },
    {
      "cell_type": "code",
      "execution_count": null,
      "metadata": {
        "id": "Ul1ZPbSPK6p1"
      },
      "outputs": [],
      "source": [
        "%matplotlib inline\n",
        "!pip install -q dnspython python-dotenv pymongo[srv] pymongo keras-tuner"
      ]
    },
    {
      "cell_type": "markdown",
      "metadata": {
        "id": "mDqwgHKR8Gq5"
      },
      "source": [
        "### Import Packages"
      ]
    },
    {
      "cell_type": "code",
      "execution_count": 1,
      "metadata": {
        "id": "Pci5Jg6WP26z"
      },
      "outputs": [],
      "source": [
        "# Standard library\n",
        "import os\n",
        "import math\n",
        "import subprocess\n",
        "from typing import Generator, List, Dict, Union, Tuple, Type, TypeVar, NewType, Any\n",
        "from typing_extensions import TypedDict, Literal\n",
        "import time\n",
        "import sys\n",
        "from urllib.parse import quote_plus\n",
        "\n",
        "# Data management primitives\n",
        "import numpy as np\n",
        "from numpy.random import SeedSequence, RandomState, seed\n",
        "import pandas as pd\n",
        "\n",
        "# Neural network tools\n",
        "import tensorflow as tf\n",
        "import keras as k\n",
        "from tensorflow import keras\n",
        "from tensorflow.python.client import device_lib\n",
        "from tensorflow.keras import layers\n",
        "from tensorflow.keras.callbacks import Callback, EarlyStopping, ModelCheckpoint\n",
        "import keras_tuner as kt\n",
        "\n",
        "# Patch joblib import - https://stackoverflow.com/questions/64509977/modulenotfounderror-no-module-named-sklearn-externals-joblib\n",
        "import joblib\n",
        "sys.modules['sklearn.externals.joblib'] = joblib\n",
        "\n",
        "# Random Forest tools\n",
        "from sklearn.model_selection import train_test_split\n",
        "from sklearn.feature_extraction.text import TfidfVectorizer, CountVectorizer\n",
        "from mlxtend.feature_selection import ColumnSelector\n",
        "from sklearn.model_selection import GridSearchCV\n",
        "from sklearn.pipeline import Pipeline\n",
        "from sklearn.ensemble import RandomForestRegressor\n",
        "\n",
        "# Data loading and preprocessing\n",
        "from dotenv import load_dotenv\n",
        "from pymongo import MongoClient\n",
        "from pycparser import CParser, c_lexer, parse_file\n",
        "from pycparser.c_lexer import CLexer\n",
        "from pycparser.ply.lex import LexToken\n",
        "\n",
        "# Visualization\n",
        "import matplotlib.pyplot as plt\n"
      ]
    },
    {
      "cell_type": "code",
      "execution_count": 2,
      "metadata": {
        "id": "gPXdy4qbCcwi"
      },
      "outputs": [],
      "source": [
        "# https://primes.utm.edu/curios/page.php/2147483647.html\n",
        "seeder = SeedSequence(2147483647)\n",
        "rs = RandomState(seeder.generate_state(1))\n",
        "seed(seeder.generate_state(1))\n",
        "random_state = int(seeder.generate_state(1)[0]) "
      ]
    },
    {
      "cell_type": "code",
      "execution_count": 3,
      "metadata": {
        "colab": {
          "base_uri": "https://localhost:8080/"
        },
        "id": "6i-Z3whBDcgX",
        "outputId": "0a7a8b1b-bfc0-4b79-9f94-b63aa91a4844"
      },
      "outputs": [
        {
          "name": "stdout",
          "output_type": "stream",
          "text": [
            "\n",
            "Available devices:\n",
            "PhysicalDevice(name='/physical_device:CPU:0', device_type='CPU')\n",
            "PhysicalDevice(name='/physical_device:GPU:0', device_type='GPU')\n",
            "\n",
            "GPU device name: \"/device:GPU:0\"\n"
          ]
        }
      ],
      "source": [
        "print('\\nAvailable devices:')\n",
        "print(\"\\n\".join(map(str, tf.config.list_physical_devices())))\n",
        "print(f'\\nGPU device name: \"{tf.test.gpu_device_name()}\"')"
      ]
    },
    {
      "cell_type": "markdown",
      "metadata": {
        "id": "UQBX1Ymo8URG"
      },
      "source": [
        "### Load Environment Variables\n",
        "\n",
        "This step loads credentials and the mongo connection URL from a `.env` file."
      ]
    },
    {
      "cell_type": "code",
      "execution_count": 4,
      "metadata": {
        "colab": {
          "base_uri": "https://localhost:8080/"
        },
        "id": "H55r6jM83uEz",
        "outputId": "bed28693-90fe-4d53-8b0f-0a92d52e29ea"
      },
      "outputs": [
        {
          "data": {
            "text/plain": [
              "True"
            ]
          },
          "execution_count": 4,
          "metadata": {},
          "output_type": "execute_result"
        }
      ],
      "source": [
        "load_dotenv()"
      ]
    },
    {
      "cell_type": "markdown",
      "metadata": {
        "id": "Cslqcp-157x2"
      },
      "source": [
        "### Establish the Database Connection"
      ]
    },
    {
      "cell_type": "code",
      "execution_count": 5,
      "metadata": {
        "id": "5lU1mGqZ5OFR"
      },
      "outputs": [],
      "source": [
        "def connect_to_mongo():\n",
        "    \"\"\"\n",
        "    Connects to MongoDB and gets the database containing StackOverflow\n",
        "    question and answer data.\n",
        "\n",
        "    \"\"\"\n",
        "\n",
        "    # A MongoDB connection string _must_ be provided\n",
        "    mongo_uri = os.getenv('MONGO_URI')\n",
        "    if not mongo_uri:\n",
        "        raise Exception('MONGO_URI not set')\n",
        "\n",
        "    # URI may either be a fully usable mongo connection string, or a printf-style string\n",
        "    # where the username and password are specified as %s and %s respectively\n",
        "    # e.g. mongodb+srv://%s:%s@mongodb.mydomain.com:27017/someDatabase\n",
        "    # See: \n",
        "    #   https://pymongo.readthedocs.io/en/stable/api/pymongo/mongo_client.html#pymongo.mongo_client.MongoClient\n",
        "    #   https://docs.mongodb.com/manual/reference/connection-string/\n",
        "    user = os.getenv('MONGO_USERNAME') or os.getenv('MONGO_PUBLIC_KEY')\n",
        "    pw = os.getenv('MONGO_PASSWORD') or os.getenv('MONGO_PRIVATE_KEY')\n",
        "\n",
        "    if user and pw:\n",
        "        mongo_uri = mongo_uri % ( quote_plus(user), quote_plus(pw))\n",
        "    else:\n",
        "        assert not user and not pw, 'MONGO_USERNAME and MONGO_PASSWORD must both be set or both be unset'\n",
        "\n",
        "    client = MongoClient(mongo_uri, tls=True)\n",
        "    return client['stackOverflowDB']\n",
        "\n",
        "db = connect_to_mongo()"
      ]
    },
    {
      "cell_type": "markdown",
      "metadata": {
        "id": "lgJFZSpOtjsr"
      },
      "source": [
        "# Preparation"
      ]
    },
    {
      "cell_type": "markdown",
      "metadata": {
        "id": "Km5kiOJiODM0"
      },
      "source": [
        "## Utilties\n",
        "\n",
        "Below are some utilities that are used throughout the code, but\n",
        "mostly during preprocessing.\n",
        "\n",
        "\n",
        "The utilities include classes for [lexing](https://en.wikipedia.org/wiki/Lexical_analysis) and [parsing](https://en.wikipedia.org/wiki/Parsing#Computer_languages) C code. The lexer is used to tokenize code snippets. Because valid C code is well formed and follows a well-defined grammar, we don't need to perform tokinization with a transformer model such as [BERT](https://arxiv.org/abs/1810.04805). The parser is not used in this project, but may be useful during future research for warning classification tasks.\n",
        "\n",
        "This has the added benefit of erroring if a code snippet has invalid syntax, allowing me to better clean the dataset. Questions were selected by tags (_i.e. \"hey StackOverflow, get me all recent questions that have been tagged as `c`\"_). This doesn't guarantee that snippets are _all_ C code; for example, they may be a shell command to compile C, or they may be C++.\n",
        "\n",
        "This cleaning is not complete. For example, the lexer would be able to tokenize the below C snippet, marking it as valid, even though it clearly is not.\n",
        "\n",
        "```c\n",
        "} int (int argc, char ** argv) { main ;\n",
        "```\n",
        "\n",
        "This is okay as we are still able to compare these snippets to well-formed ones. It is possible that malformed snippets score lower than well formed ones - the machine learning models should be able to learn this for themselves."
      ]
    },
    {
      "cell_type": "code",
      "execution_count": 8,
      "metadata": {
        "id": "-UzPyl8dKPCF"
      },
      "outputs": [],
      "source": [
        "# List of potential programs for parsing C/C++\n",
        "# 'cc' is intentionally not included\n",
        "_programs = ['gcc', 'g++', 'c++', 'clang', 'clang++']\n",
        "\n",
        "class ParserOutput(TypedDict):\n",
        "    success: bool\n",
        "    warnings: List[str]\n",
        "    errors: List[str]\n",
        "\n",
        "class SnippetCleaner:\n",
        "    \"\"\"\n",
        "    A utility for parsing C tokens. It uses a c/c++ compiler if one is available,\n",
        "    otherwise it falls bacy to pycparser.\n",
        "    \"\"\"\n",
        "\n",
        "    def __init__(self, **kwargs):\n",
        "        self.verbose: bool = kwargs.get('verbose', False)\n",
        "\n",
        "        # self.cc = self.cpp = CParser()\n",
        "        cc_override = kwargs.get('cc_override', kwargs.get('override', None))\n",
        "        cpp_override = kwargs.get('cpp_override', kwargs.get('override', None))\n",
        "        self._init_parsers(cc_override, cpp_override)\n",
        "\n",
        "    def _init_parsers(self, cc_override=None, cpp_override=None):\n",
        "        \"\"\"\n",
        "        TODO: Use this if pycparser doesn't come through\n",
        "        \"\"\"\n",
        "        # Dict of all available C/C++ compiler programs.\n",
        "        ccs = self._get_available_cc_progs()\n",
        "\n",
        "        # Determine which C parser to use.\n",
        "        if cc_override:\n",
        "            assert cc_override in ccs\n",
        "            self.cc: Union[str, CParser]  = cc_override\n",
        "        elif ccs['gcc']:\n",
        "            self.cc = 'gcc'\n",
        "        elif ccs['clang']:\n",
        "            self.cc = 'clang'\n",
        "        else:\n",
        "            self.cc = CParser()\n",
        "\n",
        "        # Determine which C++ parser to use.\n",
        "        if cpp_override:\n",
        "            assert cpp_override in ccs\n",
        "            self.cpp: Union[str, CParser] = cpp_override\n",
        "        elif ccs['g++']:\n",
        "            self.cpp = 'g++'\n",
        "        elif ccs['clang++']:\n",
        "            self.cpp = 'clang++'\n",
        "        elif ccs['c++']:\n",
        "            self.cpp = 'c++'\n",
        "        elif ccs['gcc']:  # Fallback to gcc (TODO: is this okay to do?)\n",
        "            self.cpp = 'gcc'\n",
        "        else:\n",
        "            self.cpp = CParser()\n",
        "\n",
        "    def _get_available_cc_progs(self) -> Dict[str, bool]:\n",
        "        \"\"\"\n",
        "        Checks for available C/C++ compiler programs.\n",
        "        Returns a dictionary containing the names of the available C/C++ compiler, \n",
        "        and a boolean indicating if the compiler is available.\n",
        "        \"\"\"\n",
        "\n",
        "        result: dict = {}\n",
        "        for prog in _programs:\n",
        "            try:\n",
        "                completed_prog = subprocess.run(\n",
        "                    [prog, '--version'], stdout=None, stderr=None)\n",
        "                result[prog] = completed_prog.returncode == 0\n",
        "            except:\n",
        "                result[prog] = False\n",
        "\n",
        "        return result\n",
        "\n",
        "    def _parse_cc_output(self, output: Union[subprocess.CalledProcessError, subprocess.CompletedProcess]) -> ParserOutput:\n",
        "        \"\"\"\n",
        "        \"\"\"\n",
        "        stdout: str = output.stdout.decode('utf-8') if output.stdout is not None else ''\n",
        "        stderr: str = output.stderr.decode('utf-8') if output.stderr is not None else ''\n",
        "        logs = stdout.split('\\n') + stderr.split('\\n')\n",
        "\n",
        "        errors = list(filter(lambda err: 'error' in err, logs))\n",
        "        warnings = list(filter(lambda warn: 'warn' in warn, logs))\n",
        "\n",
        "        success = len(errors) == 0 and (output.returncode == 0 if isinstance(output, subprocess.CompletedProcess) else False)\n",
        "        return {\n",
        "            'success': success,\n",
        "            'errors': errors,\n",
        "            'warnings': warnings\n",
        "        }\n",
        "\n",
        "    def _check_c_snippet(self, snippet: str, name='') -> ParserOutput:\n",
        "        \"\"\"\n",
        "        Checks if the code snippet is valid C code.\n",
        "        TODO\n",
        "        \"\"\"\n",
        "\n",
        "        # Analyze the code snippet with gcc or clang frontend\n",
        "        if self.cc == 'gcc' or self.cc == 'clang':\n",
        "            prog: Literal['gcc', 'clang'] = self.cc\n",
        "\n",
        "            # Run gcc/clang on the snippet\n",
        "            try:\n",
        "                status = subprocess.run(\n",
        "                    [prog, '--analyze', '--analyzer-output', 'sarif', '-x', 'c', '-'], stdout=subprocess.PIPE, stderr=subprocess.PIPE, input=snippet.encode(), check=True)\n",
        "                return self._parse_cc_output(status)\n",
        "                # return {'success': True, 'warnings': [], 'errors': []}\n",
        "\n",
        "            # Warnings or errors occurred, parse the output\n",
        "            except subprocess.CalledProcessError as e:\n",
        "                return self._parse_cc_output(e)\n",
        "\n",
        "            except subprocess.TimeoutExpired as e:\n",
        "                if self.verbose:\n",
        "                    print(f'Timeout: {e}')\n",
        "                return {'success': False, 'errors': [], 'warnings': []}\n",
        "\n",
        "        # Use pycparser to parse the code snippet and check if it is valid C code\n",
        "        elif isinstance(self.cc, CParser):\n",
        "            try:\n",
        "                parser: CParser = self.cc\n",
        "                parser.parse(snippet, name, 1 if self.verbose else 0)\n",
        "                return {'success': True, 'warnings': [], 'errors': []}\n",
        "\n",
        "            except Exception as e:\n",
        "                return { 'success': False, 'errors': [str(e)], 'warnings': [] }\n",
        "\n",
        "        else:\n",
        "            raise TypeError(f'Unknown compiler: {self.cc}')\n",
        "\n",
        "    # Parses a code snippet and checks if it is valid C code. If the check fails,\n",
        "    # it checks if the snippet is valid C++ code. Returns a tuple containing\n",
        "    # two booleans, the first one indicating if the code snippet is valid C code,\n",
        "    # the second one indicating if the code snippet is valid C++ code.\n",
        "    def parse(self, snippet: str, name: str = '') -> Tuple[bool, bool]:\n",
        "        c_parse_result = self._check_c_snippet(snippet, name)\n",
        "        if self.verbose:\n",
        "            print(f'Errors: {c_parse_result[\"errors\"]}')\n",
        "            print(f'Warnings: {c_parse_result[\"warnings\"]}')\n",
        "\n",
        "        # TODO: Check if the code snippet is valid C++ code\n",
        "        return (c_parse_result['success'], False)"
      ]
    },
    {
      "cell_type": "code",
      "execution_count": 9,
      "metadata": {
        "id": "YzZU_dNdC796"
      },
      "outputs": [],
      "source": [
        "# All possible states the SnippetLexer may be in\n",
        "LexerStatus = Literal['pending', 'running', 'error', 'success']\n",
        "\n",
        "class SnippetLexer:\n",
        "    \"\"\"\n",
        "    Turns a C code snippet into a list of tokens. Uses pycparser for lexing.\n",
        "    \"\"\"\n",
        "\n",
        "    def __init__(self):\n",
        "        self._lexer = CLexer(error_func=self._on_error, on_lbrace_func=self._on_lbrace,\n",
        "                             on_rbrace_func=self._on_rbrace, type_lookup_func=self._type_lookup)\n",
        "        # 'pending', 'running', 'error', 'success'\n",
        "        self.status: LexerStatus = 'pending'\n",
        "        self.errors: List[str] = [] \n",
        "        self.brace_depth = 0\n",
        "        self._is_built = False\n",
        "\n",
        "    def lex(self, snippet: str, **kwargs) -> Tuple[List[LexToken], LexerStatus]:\n",
        "        \"\"\"\n",
        "        Lexes a code snippet and returns a tuple containing the lexed snippet and\n",
        "        the lexer's status. The status can be 'pending', 'running', 'error', or 'success'.\n",
        "\n",
        "        If the lexer's status is 'error', the errors list will contain a list of\n",
        "        error messages.\n",
        "        \"\"\"\n",
        "        \n",
        "        self.reset()\n",
        "        toks: List[LexToken] = []\n",
        "\n",
        "        self.status = 'running'\n",
        "\n",
        "        if not self._is_built:\n",
        "          self._lexer.build(**kwargs)\n",
        "          self._is_built = True\n",
        "\n",
        "        self._lexer.input(snippet)\n",
        "        # self._lexer.token()\n",
        "\n",
        "        while True:\n",
        "            tok = self._lexer.token()\n",
        "            if not tok:\n",
        "                break\n",
        "            toks.append(tok)\n",
        "\n",
        "        # Check for hanging open braces\n",
        "        if self.brace_depth > 0:\n",
        "            self.status = 'error'\n",
        "            self.errors.append('Unbalanced braces')\n",
        "\n",
        "        self.status = 'success' if self.status == 'running' else self.status\n",
        "        return (toks, self.status)\n",
        "\n",
        "    def reset(self):\n",
        "        \"\"\"\n",
        "        Resets the lexer's internal state after lexing a snippet.\n",
        "        \"\"\"\n",
        "\n",
        "        self.status = 'pending'\n",
        "        self.errors = []\n",
        "        self.brace_depth = 0\n",
        "\n",
        "    @property\n",
        "    def tokens(self):\n",
        "        \"\"\"\n",
        "        Gets a list of all possible C tokens. This is used as the vocabulary\n",
        "        during processing/training.\n",
        "        \"\"\"\n",
        "        \n",
        "        if not self._is_built:\n",
        "            raise Exception('Cannot get tokens before lexer has been built')\n",
        "      \n",
        "        return self._lexer.tokens\n",
        "\n",
        "    def _type_lookup(self, token):\n",
        "        return True\n",
        "\n",
        "    def _on_lbrace(self):\n",
        "        self.brace_depth += 1\n",
        "\n",
        "    def _on_rbrace(self):\n",
        "        self.brace_depth -= 1\n",
        "        if self.brace_depth < 0:\n",
        "            self.status = 'error'\n",
        "            self.errors.append('Unbalanced braces')\n",
        "\n",
        "    def _on_error(self, msg, _line, _column):\n",
        "        self.status = 'error'\n",
        "        self.errors.append(msg)"
      ]
    },
    {
      "cell_type": "markdown",
      "metadata": {
        "id": "e0qGoqsz8wjf"
      },
      "source": [
        "## Getting the Data\n",
        "\n",
        "To obtain the data, I used a combination of the StackOverflow API and web scraping. I searched for questions tagged with `c`, sorting chronologically.\n",
        "Questions with a score of 0 or lower were filtered out.\n",
        "\n",
        "Using the link to the\n",
        "question page, I then scraped all answeres from each question. Code snippets\n",
        "were extracted from all `pre` tags, then joined together into a single block\n",
        "of text. Pre tags were specifically used to only obtain longer code blocks,\n",
        "rather than inline monospaced text. Answers with no code were discarded, and \n",
        "questions with no valid answers after filtering were also discarded. Once obtained, all data was put into a MongoDB database running on [MongoDB Atlas](https://www.mongodb.com/atlas/database).\n",
        "\n",
        "The code used to extract question and answer data may be found [here](https://github.com/DonIsaac/cmsc320-final/blob/main/scrape/stack.py).\n",
        "\n"
      ]
    },
    {
      "cell_type": "markdown",
      "metadata": {
        "id": "QokM1X16girj"
      },
      "source": [
        "In all, over 118k questions and 213k answers were scraped from Stack Overflow. After filtering and cleaning, this turns into about 50k total records. Unfortunately, TensorFlow is not able to handle this much data at once, so only about 10k rows are actually used for training."
      ]
    },
    {
      "cell_type": "code",
      "execution_count": 10,
      "metadata": {
        "colab": {
          "base_uri": "https://localhost:8080/"
        },
        "id": "yptJ66F4agMu",
        "outputId": "6834424c-b134-4fe9-8c06-07a4b8c41f47"
      },
      "outputs": [
        {
          "name": "stdout",
          "output_type": "stream",
          "text": [
            "The database contains 118,349 questions and 213,237 answers scraped from StackOverflow.\n"
          ]
        }
      ],
      "source": [
        "num_questions = db.questions.estimated_document_count()\n",
        "num_answers = db.answers.estimated_document_count()\n",
        "\n",
        "print(f'The database contains {num_questions:,} questions and {num_answers:,} answers scraped from StackOverflow.')"
      ]
    },
    {
      "cell_type": "markdown",
      "metadata": {
        "id": "j17Y2yENgxnl"
      },
      "source": [
        "The data stored in a normalized format - a collection for questions and a question for answers. This is great for storage, but not so much for usage.\n",
        "The code below performs a left inner join on questions and restructures the\n",
        "results, resulting in a single row per question. Questions with too low of\n",
        "a score are also filtered out (again)."
      ]
    },
    {
      "cell_type": "code",
      "execution_count": 11,
      "metadata": {
        "colab": {
          "base_uri": "https://localhost:8080/"
        },
        "id": "g6GdTR1m-9VE",
        "outputId": "72e5e83f-a1b3-4f64-dbba-d44f7b0d278a"
      },
      "outputs": [
        {
          "name": "stdout",
          "output_type": "stream",
          "text": [
            "Initial dataset has 51,482 records\n"
          ]
        }
      ],
      "source": [
        "min_question_score = 5\n",
        "\n",
        "def load_data():\n",
        "  pipeline: List[Dict] = []\n",
        "  \n",
        "  # Filter out questions with low scores\n",
        "  # SELECT * FROM questions WHERE score > min_question_score\n",
        "  pipeline.append({'$match':\n",
        "                   {'score': { '$gt': min_question_score }}})\n",
        "  \n",
        "  # Note that we intentionally do not add a $limit to this pipeline. We want a\n",
        "  # random distribution of question scores, and because scores is indexed and \n",
        "  # we match on it, we would be selecting a slice of questions sorted by score.\n",
        "\n",
        "  # Pick and rename fields from questions we want. Renaming avoids field\n",
        "  # collisions with answer data\n",
        "  pipeline.append({'$project': {\n",
        "      'question_id': 1,\n",
        "      'question_title': '$title',\n",
        "      'question_view_count': '$view_count',\n",
        "      'answer_count': 1,\n",
        "      'is_answered': 1,\n",
        "      'question_score': '$score'\n",
        "  }})\n",
        "\n",
        "  # Inner left join 'questions' with 'answers' on the question id\n",
        "  pipeline.append({'$lookup': {\n",
        "      'from': 'answers',\n",
        "      'localField': '_id',\n",
        "      'foreignField': 'question_id',\n",
        "      'as': 'answers'\n",
        "  }})\n",
        "\n",
        "  # Answers are now stored in a list field in the question document. Unwind them\n",
        "  # to create a unique document for each answer\n",
        "  pipeline.append({'$unwind': '$answers'})\n",
        "\n",
        "  # Now answers is an object field, project again to flatten the records hape\n",
        "  pipeline.append({'$project': {\n",
        "      # '_id': 0,\n",
        "      'question_score': 1,\n",
        "      'question_view_count': 1,\n",
        "      'question_title': 1,\n",
        "      'question_id': 1,\n",
        "      'question_is_answered': '$is_answered',\n",
        "      'question_has_highest_accepted_answer': '$answers.question_has_highest_accepted_answer',\n",
        "      'answer_count': 1,\n",
        "      'answer_score': '$answers.score',\n",
        "      'answer_snippets': '$answers.snippets',\n",
        "      'answer_id': '$answers._id',\n",
        "      'answer_is_accepted': '$answers.is_answered',\n",
        "      'answer_is_highest_scored': '$answers.is_highest_scored',\n",
        "      'answer_url': '$answers.source'\n",
        "  }})\n",
        "\n",
        "  # Execute the query  \n",
        "  data = db.questions.aggregate(pipeline)\n",
        "  return pd.DataFrame.from_records(data, index='answer_id')\n",
        "\n",
        "df = load_data()\n",
        "print(f'Initial dataset has {len(df):,} records')"
      ]
    },
    {
      "cell_type": "code",
      "execution_count": 14,
      "metadata": {
        "colab": {
          "base_uri": "https://localhost:8080/",
          "height": 440
        },
        "id": "gaL0b7rJOCa6",
        "outputId": "5fe9ee89-505e-4928-d296-73e28f825c50"
      },
      "outputs": [
        {
          "data": {
            "text/html": [
              "\n",
              "  <div id=\"df-c6e678c4-dc2a-4e9a-98be-b92b524993a8\">\n",
              "    <div class=\"colab-df-container\">\n",
              "      <div>\n",
              "<style scoped>\n",
              "    .dataframe tbody tr th:only-of-type {\n",
              "        vertical-align: middle;\n",
              "    }\n",
              "\n",
              "    .dataframe tbody tr th {\n",
              "        vertical-align: top;\n",
              "    }\n",
              "\n",
              "    .dataframe thead th {\n",
              "        text-align: right;\n",
              "    }\n",
              "</style>\n",
              "<table border=\"1\" class=\"dataframe\">\n",
              "  <thead>\n",
              "    <tr style=\"text-align: right;\">\n",
              "      <th></th>\n",
              "      <th>_id</th>\n",
              "      <th>answer_count</th>\n",
              "      <th>question_id</th>\n",
              "      <th>question_title</th>\n",
              "      <th>question_view_count</th>\n",
              "      <th>question_score</th>\n",
              "      <th>question_is_answered</th>\n",
              "      <th>question_has_highest_accepted_answer</th>\n",
              "      <th>answer_score</th>\n",
              "      <th>answer_snippets</th>\n",
              "      <th>answer_is_highest_scored</th>\n",
              "      <th>answer_url</th>\n",
              "    </tr>\n",
              "    <tr>\n",
              "      <th>answer_id</th>\n",
              "      <th></th>\n",
              "      <th></th>\n",
              "      <th></th>\n",
              "      <th></th>\n",
              "      <th></th>\n",
              "      <th></th>\n",
              "      <th></th>\n",
              "      <th></th>\n",
              "      <th></th>\n",
              "      <th></th>\n",
              "      <th></th>\n",
              "      <th></th>\n",
              "    </tr>\n",
              "  </thead>\n",
              "  <tbody>\n",
              "    <tr>\n",
              "      <th>15197157</th>\n",
              "      <td>15192948</td>\n",
              "      <td>3</td>\n",
              "      <td>15192948</td>\n",
              "      <td>C dynamically printf double, no loss of precis...</td>\n",
              "      <td>8839</td>\n",
              "      <td>6</td>\n",
              "      <td>True</td>\n",
              "      <td>True</td>\n",
              "      <td>9</td>\n",
              "      <td>// file: PrintFullFraction.c\\n//\\n// compile w...</td>\n",
              "      <td>True</td>\n",
              "      <td>https://stackoverflow.com/a/15197157</td>\n",
              "    </tr>\n",
              "    <tr>\n",
              "      <th>70133323</th>\n",
              "      <td>70133225</td>\n",
              "      <td>2</td>\n",
              "      <td>70133225</td>\n",
              "      <td>Using const keyword in c</td>\n",
              "      <td>68</td>\n",
              "      <td>6</td>\n",
              "      <td>True</td>\n",
              "      <td>True</td>\n",
              "      <td>3</td>\n",
              "      <td>char const const *ptr = &amp;a;\\n\\npointer to cons...</td>\n",
              "      <td>False</td>\n",
              "      <td>https://stackoverflow.com/a/70133323</td>\n",
              "    </tr>\n",
              "    <tr>\n",
              "      <th>70133325</th>\n",
              "      <td>70133225</td>\n",
              "      <td>2</td>\n",
              "      <td>70133225</td>\n",
              "      <td>Using const keyword in c</td>\n",
              "      <td>68</td>\n",
              "      <td>6</td>\n",
              "      <td>True</td>\n",
              "      <td>True</td>\n",
              "      <td>4</td>\n",
              "      <td>static char const *const delimit_method_string...</td>\n",
              "      <td>True</td>\n",
              "      <td>https://stackoverflow.com/a/70133325</td>\n",
              "    </tr>\n",
              "    <tr>\n",
              "      <th>70130202</th>\n",
              "      <td>70130105</td>\n",
              "      <td>2</td>\n",
              "      <td>70130105</td>\n",
              "      <td>bit-shift right-hand operand type</td>\n",
              "      <td>75</td>\n",
              "      <td>6</td>\n",
              "      <td>True</td>\n",
              "      <td>True</td>\n",
              "      <td>1</td>\n",
              "      <td>int main()\\n{\\n    int x = 16;\\n    long int y...</td>\n",
              "      <td>False</td>\n",
              "      <td>https://stackoverflow.com/a/70130202</td>\n",
              "    </tr>\n",
              "    <tr>\n",
              "      <th>70089860</th>\n",
              "      <td>70089766</td>\n",
              "      <td>4</td>\n",
              "      <td>70089766</td>\n",
              "      <td>How to &amp;#39;tag&amp;#39; a location in a C source ...</td>\n",
              "      <td>95</td>\n",
              "      <td>6</td>\n",
              "      <td>True</td>\n",
              "      <td>False</td>\n",
              "      <td>2</td>\n",
              "      <td>#include &lt;stdio.h&gt;\\nstatic volatile int loc;\\n...</td>\n",
              "      <td>False</td>\n",
              "      <td>https://stackoverflow.com/a/70089860</td>\n",
              "    </tr>\n",
              "  </tbody>\n",
              "</table>\n",
              "</div>\n",
              "      <button class=\"colab-df-convert\" onclick=\"convertToInteractive('df-c6e678c4-dc2a-4e9a-98be-b92b524993a8')\"\n",
              "              title=\"Convert this dataframe to an interactive table.\"\n",
              "              style=\"display:none;\">\n",
              "        \n",
              "  <svg xmlns=\"http://www.w3.org/2000/svg\" height=\"24px\"viewBox=\"0 0 24 24\"\n",
              "       width=\"24px\">\n",
              "    <path d=\"M0 0h24v24H0V0z\" fill=\"none\"/>\n",
              "    <path d=\"M18.56 5.44l.94 2.06.94-2.06 2.06-.94-2.06-.94-.94-2.06-.94 2.06-2.06.94zm-11 1L8.5 8.5l.94-2.06 2.06-.94-2.06-.94L8.5 2.5l-.94 2.06-2.06.94zm10 10l.94 2.06.94-2.06 2.06-.94-2.06-.94-.94-2.06-.94 2.06-2.06.94z\"/><path d=\"M17.41 7.96l-1.37-1.37c-.4-.4-.92-.59-1.43-.59-.52 0-1.04.2-1.43.59L10.3 9.45l-7.72 7.72c-.78.78-.78 2.05 0 2.83L4 21.41c.39.39.9.59 1.41.59.51 0 1.02-.2 1.41-.59l7.78-7.78 2.81-2.81c.8-.78.8-2.07 0-2.86zM5.41 20L4 18.59l7.72-7.72 1.47 1.35L5.41 20z\"/>\n",
              "  </svg>\n",
              "      </button>\n",
              "      \n",
              "  <style>\n",
              "    .colab-df-container {\n",
              "      display:flex;\n",
              "      flex-wrap:wrap;\n",
              "      gap: 12px;\n",
              "    }\n",
              "\n",
              "    .colab-df-convert {\n",
              "      background-color: #E8F0FE;\n",
              "      border: none;\n",
              "      border-radius: 50%;\n",
              "      cursor: pointer;\n",
              "      display: none;\n",
              "      fill: #1967D2;\n",
              "      height: 32px;\n",
              "      padding: 0 0 0 0;\n",
              "      width: 32px;\n",
              "    }\n",
              "\n",
              "    .colab-df-convert:hover {\n",
              "      background-color: #E2EBFA;\n",
              "      box-shadow: 0px 1px 2px rgba(60, 64, 67, 0.3), 0px 1px 3px 1px rgba(60, 64, 67, 0.15);\n",
              "      fill: #174EA6;\n",
              "    }\n",
              "\n",
              "    [theme=dark] .colab-df-convert {\n",
              "      background-color: #3B4455;\n",
              "      fill: #D2E3FC;\n",
              "    }\n",
              "\n",
              "    [theme=dark] .colab-df-convert:hover {\n",
              "      background-color: #434B5C;\n",
              "      box-shadow: 0px 1px 3px 1px rgba(0, 0, 0, 0.15);\n",
              "      filter: drop-shadow(0px 1px 2px rgba(0, 0, 0, 0.3));\n",
              "      fill: #FFFFFF;\n",
              "    }\n",
              "  </style>\n",
              "\n",
              "      <script>\n",
              "        const buttonEl =\n",
              "          document.querySelector('#df-c6e678c4-dc2a-4e9a-98be-b92b524993a8 button.colab-df-convert');\n",
              "        buttonEl.style.display =\n",
              "          google.colab.kernel.accessAllowed ? 'block' : 'none';\n",
              "\n",
              "        async function convertToInteractive(key) {\n",
              "          const element = document.querySelector('#df-c6e678c4-dc2a-4e9a-98be-b92b524993a8');\n",
              "          const dataTable =\n",
              "            await google.colab.kernel.invokeFunction('convertToInteractive',\n",
              "                                                     [key], {});\n",
              "          if (!dataTable) return;\n",
              "\n",
              "          const docLinkHtml = 'Like what you see? Visit the ' +\n",
              "            '<a target=\"_blank\" href=https://colab.research.google.com/notebooks/data_table.ipynb>data table notebook</a>'\n",
              "            + ' to learn more about interactive tables.';\n",
              "          element.innerHTML = '';\n",
              "          dataTable['output_type'] = 'display_data';\n",
              "          await google.colab.output.renderOutput(dataTable, element);\n",
              "          const docLink = document.createElement('div');\n",
              "          docLink.innerHTML = docLinkHtml;\n",
              "          element.appendChild(docLink);\n",
              "        }\n",
              "      </script>\n",
              "    </div>\n",
              "  </div>\n",
              "  "
            ],
            "text/plain": [
              "                _id  ...                            answer_url\n",
              "answer_id            ...                                      \n",
              "15197157   15192948  ...  https://stackoverflow.com/a/15197157\n",
              "70133323   70133225  ...  https://stackoverflow.com/a/70133323\n",
              "70133325   70133225  ...  https://stackoverflow.com/a/70133325\n",
              "70130202   70130105  ...  https://stackoverflow.com/a/70130202\n",
              "70089860   70089766  ...  https://stackoverflow.com/a/70089860\n",
              "\n",
              "[5 rows x 12 columns]"
            ]
          },
          "execution_count": 14,
          "metadata": {},
          "output_type": "execute_result"
        }
      ],
      "source": [
        "df.head()"
      ]
    },
    {
      "cell_type": "markdown",
      "metadata": {
        "id": "ZeIy9RsEzlWL"
      },
      "source": [
        "## Data Exploration\n",
        "\n",
        "This section provides a bit of insight into what kind of data we have."
      ]
    },
    {
      "cell_type": "code",
      "execution_count": 15,
      "metadata": {
        "colab": {
          "base_uri": "https://localhost:8080/",
          "height": 300
        },
        "id": "I-DRDx7rslRw",
        "outputId": "dd0d102d-191a-4346-a6af-04a14876bd17"
      },
      "outputs": [
        {
          "data": {
            "text/html": [
              "\n",
              "  <div id=\"df-8ed0fd53-80d2-4b1c-822d-69e87b56266f\">\n",
              "    <div class=\"colab-df-container\">\n",
              "      <div>\n",
              "<style scoped>\n",
              "    .dataframe tbody tr th:only-of-type {\n",
              "        vertical-align: middle;\n",
              "    }\n",
              "\n",
              "    .dataframe tbody tr th {\n",
              "        vertical-align: top;\n",
              "    }\n",
              "\n",
              "    .dataframe thead th {\n",
              "        text-align: right;\n",
              "    }\n",
              "</style>\n",
              "<table border=\"1\" class=\"dataframe\">\n",
              "  <thead>\n",
              "    <tr style=\"text-align: right;\">\n",
              "      <th></th>\n",
              "      <th>question_score</th>\n",
              "      <th>answer_score</th>\n",
              "    </tr>\n",
              "  </thead>\n",
              "  <tbody>\n",
              "    <tr>\n",
              "      <th>count</th>\n",
              "      <td>51482.000000</td>\n",
              "      <td>51482.000000</td>\n",
              "    </tr>\n",
              "    <tr>\n",
              "      <th>mean</th>\n",
              "      <td>49.265549</td>\n",
              "      <td>14.080747</td>\n",
              "    </tr>\n",
              "    <tr>\n",
              "      <th>std</th>\n",
              "      <td>238.757766</td>\n",
              "      <td>69.547787</td>\n",
              "    </tr>\n",
              "    <tr>\n",
              "      <th>min</th>\n",
              "      <td>6.000000</td>\n",
              "      <td>-41.000000</td>\n",
              "    </tr>\n",
              "    <tr>\n",
              "      <th>25%</th>\n",
              "      <td>8.000000</td>\n",
              "      <td>1.000000</td>\n",
              "    </tr>\n",
              "    <tr>\n",
              "      <th>50%</th>\n",
              "      <td>13.000000</td>\n",
              "      <td>4.000000</td>\n",
              "    </tr>\n",
              "    <tr>\n",
              "      <th>75%</th>\n",
              "      <td>33.000000</td>\n",
              "      <td>11.000000</td>\n",
              "    </tr>\n",
              "    <tr>\n",
              "      <th>max</th>\n",
              "      <td>9598.000000</td>\n",
              "      <td>9295.000000</td>\n",
              "    </tr>\n",
              "  </tbody>\n",
              "</table>\n",
              "</div>\n",
              "      <button class=\"colab-df-convert\" onclick=\"convertToInteractive('df-8ed0fd53-80d2-4b1c-822d-69e87b56266f')\"\n",
              "              title=\"Convert this dataframe to an interactive table.\"\n",
              "              style=\"display:none;\">\n",
              "        \n",
              "  <svg xmlns=\"http://www.w3.org/2000/svg\" height=\"24px\"viewBox=\"0 0 24 24\"\n",
              "       width=\"24px\">\n",
              "    <path d=\"M0 0h24v24H0V0z\" fill=\"none\"/>\n",
              "    <path d=\"M18.56 5.44l.94 2.06.94-2.06 2.06-.94-2.06-.94-.94-2.06-.94 2.06-2.06.94zm-11 1L8.5 8.5l.94-2.06 2.06-.94-2.06-.94L8.5 2.5l-.94 2.06-2.06.94zm10 10l.94 2.06.94-2.06 2.06-.94-2.06-.94-.94-2.06-.94 2.06-2.06.94z\"/><path d=\"M17.41 7.96l-1.37-1.37c-.4-.4-.92-.59-1.43-.59-.52 0-1.04.2-1.43.59L10.3 9.45l-7.72 7.72c-.78.78-.78 2.05 0 2.83L4 21.41c.39.39.9.59 1.41.59.51 0 1.02-.2 1.41-.59l7.78-7.78 2.81-2.81c.8-.78.8-2.07 0-2.86zM5.41 20L4 18.59l7.72-7.72 1.47 1.35L5.41 20z\"/>\n",
              "  </svg>\n",
              "      </button>\n",
              "      \n",
              "  <style>\n",
              "    .colab-df-container {\n",
              "      display:flex;\n",
              "      flex-wrap:wrap;\n",
              "      gap: 12px;\n",
              "    }\n",
              "\n",
              "    .colab-df-convert {\n",
              "      background-color: #E8F0FE;\n",
              "      border: none;\n",
              "      border-radius: 50%;\n",
              "      cursor: pointer;\n",
              "      display: none;\n",
              "      fill: #1967D2;\n",
              "      height: 32px;\n",
              "      padding: 0 0 0 0;\n",
              "      width: 32px;\n",
              "    }\n",
              "\n",
              "    .colab-df-convert:hover {\n",
              "      background-color: #E2EBFA;\n",
              "      box-shadow: 0px 1px 2px rgba(60, 64, 67, 0.3), 0px 1px 3px 1px rgba(60, 64, 67, 0.15);\n",
              "      fill: #174EA6;\n",
              "    }\n",
              "\n",
              "    [theme=dark] .colab-df-convert {\n",
              "      background-color: #3B4455;\n",
              "      fill: #D2E3FC;\n",
              "    }\n",
              "\n",
              "    [theme=dark] .colab-df-convert:hover {\n",
              "      background-color: #434B5C;\n",
              "      box-shadow: 0px 1px 3px 1px rgba(0, 0, 0, 0.15);\n",
              "      filter: drop-shadow(0px 1px 2px rgba(0, 0, 0, 0.3));\n",
              "      fill: #FFFFFF;\n",
              "    }\n",
              "  </style>\n",
              "\n",
              "      <script>\n",
              "        const buttonEl =\n",
              "          document.querySelector('#df-8ed0fd53-80d2-4b1c-822d-69e87b56266f button.colab-df-convert');\n",
              "        buttonEl.style.display =\n",
              "          google.colab.kernel.accessAllowed ? 'block' : 'none';\n",
              "\n",
              "        async function convertToInteractive(key) {\n",
              "          const element = document.querySelector('#df-8ed0fd53-80d2-4b1c-822d-69e87b56266f');\n",
              "          const dataTable =\n",
              "            await google.colab.kernel.invokeFunction('convertToInteractive',\n",
              "                                                     [key], {});\n",
              "          if (!dataTable) return;\n",
              "\n",
              "          const docLinkHtml = 'Like what you see? Visit the ' +\n",
              "            '<a target=\"_blank\" href=https://colab.research.google.com/notebooks/data_table.ipynb>data table notebook</a>'\n",
              "            + ' to learn more about interactive tables.';\n",
              "          element.innerHTML = '';\n",
              "          dataTable['output_type'] = 'display_data';\n",
              "          await google.colab.output.renderOutput(dataTable, element);\n",
              "          const docLink = document.createElement('div');\n",
              "          docLink.innerHTML = docLinkHtml;\n",
              "          element.appendChild(docLink);\n",
              "        }\n",
              "      </script>\n",
              "    </div>\n",
              "  </div>\n",
              "  "
            ],
            "text/plain": [
              "       question_score  answer_score\n",
              "count    51482.000000  51482.000000\n",
              "mean        49.265549     14.080747\n",
              "std        238.757766     69.547787\n",
              "min          6.000000    -41.000000\n",
              "25%          8.000000      1.000000\n",
              "50%         13.000000      4.000000\n",
              "75%         33.000000     11.000000\n",
              "max       9598.000000   9295.000000"
            ]
          },
          "execution_count": 15,
          "metadata": {},
          "output_type": "execute_result"
        }
      ],
      "source": [
        "df[['question_score', 'answer_score']].describe()"
      ]
    },
    {
      "cell_type": "markdown",
      "metadata": {
        "id": "xheQYH0IEACj"
      },
      "source": [
        "Most questions and answers have less than 200 scores, and most\n",
        "questions have more upvotes than their answers."
      ]
    },
    {
      "cell_type": "code",
      "execution_count": 16,
      "metadata": {
        "colab": {
          "base_uri": "https://localhost:8080/",
          "height": 333
        },
        "id": "yoR3YpIaNSvT",
        "outputId": "0b787b30-6fcb-403d-e146-c8231dba2be2"
      },
      "outputs": [
        {
          "data": {
            "text/plain": [
              "array([[<matplotlib.axes._subplots.AxesSubplot object at 0x7f981b9639d0>,\n",
              "        <matplotlib.axes._subplots.AxesSubplot object at 0x7f981b8c88d0>]],\n",
              "      dtype=object)"
            ]
          },
          "execution_count": 16,
          "metadata": {},
          "output_type": "execute_result"
        },
        {
          "data": {
            "image/png": "[encoded data removed]",
            "text/plain": [
              "<Figure size 432x288 with 2 Axes>"
            ]
          },
          "metadata": {
            "needs_background": "light"
          },
          "output_type": "display_data"
        }
      ],
      "source": [
        "df[['question_score', 'answer_score']].hist()"
      ]
    },
    {
      "cell_type": "code",
      "execution_count": 17,
      "metadata": {
        "colab": {
          "base_uri": "https://localhost:8080/",
          "height": 282
        },
        "id": "q4Xai85qNg-k",
        "outputId": "33cd8574-98b4-44c5-eee2-164febee0bd7"
      },
      "outputs": [
        {
          "data": {
            "text/plain": [
              "<matplotlib.axes._subplots.AxesSubplot at 0x7f981bb6d610>"
            ]
          },
          "execution_count": 17,
          "metadata": {},
          "output_type": "execute_result"
        },
        {
          "data": {
            "image/png": "[encoded data removed]",
            "text/plain": [
              "<Figure size 432x288 with 1 Axes>"
            ]
          },
          "metadata": {
            "needs_background": "light"
          },
          "output_type": "display_data"
        }
      ],
      "source": [
        "(df['question_score'] - df['answer_score']).hist()"
      ]
    },
    {
      "cell_type": "code",
      "execution_count": 19,
      "metadata": {
        "colab": {
          "base_uri": "https://localhost:8080/",
          "height": 295
        },
        "id": "bjuSMGXgz9wk",
        "outputId": "46aaf31e-6704-4b08-a851-a5af76f388f2"
      },
      "outputs": [
        {
          "data": {
            "image/png": "[encoded data removed]",
            "text/plain": [
              "<Figure size 432x288 with 1 Axes>"
            ]
          },
          "metadata": {
            "needs_background": "light"
          },
          "output_type": "display_data"
        }
      ],
      "source": [
        "plt.scatter(df['question_score'],\n",
        "            df['answer_score'])\n",
        "\n",
        "plt.title('StackOverflow Question vs Answer Scores')\n",
        "plt.xlabel('Question Score')\n",
        "plt.ylabel('Answer Score')\n",
        "\n",
        "plt.show()"
      ]
    },
    {
      "cell_type": "markdown",
      "metadata": {
        "id": "axpJ5VLaEewi"
      },
      "source": [
        "This data is too clumped up - it's much clearer when displayed on a log scale."
      ]
    },
    {
      "cell_type": "code",
      "execution_count": 20,
      "metadata": {
        "colab": {
          "base_uri": "https://localhost:8080/",
          "height": 295
        },
        "id": "R4P6XQjCSAHd",
        "outputId": "575c4177-fb2a-4338-e13f-f27eece32eef"
      },
      "outputs": [
        {
          "data": {
            "image/png": "[encoded data removed]",
            "text/plain": [
              "<Figure size 432x288 with 1 Axes>"
            ]
          },
          "metadata": {
            "needs_background": "light"
          },
          "output_type": "display_data"
        }
      ],
      "source": [
        "plt.scatter(df['question_score'].apply(np.log10),\n",
        "            df['answer_score'].apply(np.log10))\n",
        "\n",
        "plt.title('StackOverflow Question vs Answer Scores - Log Scale')\n",
        "plt.xlabel('Log Question Score')\n",
        "plt.ylabel('LogAnswer Score')\n",
        "\n",
        "plt.show()"
      ]
    },
    {
      "cell_type": "code",
      "execution_count": 21,
      "metadata": {
        "colab": {
          "base_uri": "https://localhost:8080/",
          "height": 295
        },
        "id": "Pm5qD7bUSaZ2",
        "outputId": "1aed2ddd-030c-439b-b030-ee3a660c1171"
      },
      "outputs": [
        {
          "data": {
            "image/png": "[encoded data removed]",
            "text/plain": [
              "<Figure size 432x288 with 1 Axes>"
            ]
          },
          "metadata": {
            "needs_background": "light"
          },
          "output_type": "display_data"
        }
      ],
      "source": [
        "plt.scatter(df['question_view_count'].apply(np.log10),\n",
        "            df['question_score'].apply(np.log10))\n",
        "\n",
        "plt.title('StackOverflow Question Scores by View Counts')\n",
        "plt.xlabel('Log View Count')\n",
        "plt.ylabel('Log Question Score')\n",
        "\n",
        "plt.show()"
      ]
    },
    {
      "cell_type": "code",
      "execution_count": 22,
      "metadata": {
        "colab": {
          "base_uri": "https://localhost:8080/",
          "height": 295
        },
        "id": "9T50ntFxzxM1",
        "outputId": "42405ff3-af22-4d2f-cfdd-6a2aaeaef4e5"
      },
      "outputs": [
        {
          "data": {
            "image/png": "[encoded data removed]",
            "text/plain": [
              "<Figure size 432x288 with 1 Axes>"
            ]
          },
          "metadata": {
            "needs_background": "light"
          },
          "output_type": "display_data"
        }
      ],
      "source": [
        "plt.scatter(df['answer_score'].apply(np.log2),\n",
        "            df['answer_snippets'].str.strip().str.len())\n",
        "\n",
        "plt.title('StackOverflow Question vs Answer Scores - Log ')\n",
        "plt.xlabel('Log Question Score')\n",
        "plt.ylabel('Log Answer Score')\n",
        "\n",
        "plt.show()"
      ]
    },
    {
      "cell_type": "code",
      "execution_count": 23,
      "metadata": {
        "colab": {
          "base_uri": "https://localhost:8080/",
          "height": 295
        },
        "id": "_N50PNG8O5Rl",
        "outputId": "99c76f72-512b-47cd-c5ba-7a3e7c5c34a1"
      },
      "outputs": [
        {
          "data": {
            "image/png": "[encoded data removed]",
            "text/plain": [
              "<Figure size 432x288 with 1 Axes>"
            ]
          },
          "metadata": {
            "needs_background": "light"
          },
          "output_type": "display_data"
        }
      ],
      "source": [
        "score_ratio = df['answer_score'] / df['question_score']\n",
        "plt.scatter(score_ratio,\n",
        "            df['answer_snippets'].str.strip().str.len())\n",
        "\n",
        "plt.title('Answer Score Ratios vs Length of Total Code Contained in Answers')\n",
        "plt.xlabel('Score Ratio (answer score / question score)')\n",
        "plt.ylabel('Snippet Len (stripped)')\n",
        "\n",
        "plt.show()"
      ]
    },
    {
      "cell_type": "markdown",
      "metadata": {
        "id": "6WCyGPmVHE3v"
      },
      "source": [
        "## Preprocessing\n",
        "\n",
        "Before training can start, the dataset must undergo further cleaning as well as tokinization."
      ]
    },
    {
      "cell_type": "markdown",
      "metadata": {
        "id": "M_SOR_9dIWYS"
      },
      "source": [
        "### Pre-Processing Hyperparameters"
      ]
    },
    {
      "cell_type": "code",
      "execution_count": 24,
      "metadata": {
        "id": "OhJn5GLeHwaY"
      },
      "outputs": [],
      "source": [
        "# The number of observations to train the model with. Make this none to use\n",
        "# the entire dataset. Limiting the sample size makes preprocessing and training\n",
        "# faster, which is beneficial for development/debugging.\n",
        "dataset_size: Union[int, None] = 10_000\n",
        "\n",
        "# The number of tokens that must be included in each feature vector. Snippets\n",
        "# with more tokens will be truncated, and snippets with fewer tokens will be\n",
        "# padded with zeros. (right-padded).\n",
        "toks_per_seq: int = 1500\n",
        "\n",
        "# Rows whose answer snippets have a lower length than this are discarded\n",
        "min_snippet_len = 100\n",
        "\n",
        "# Answers for questions with fewer than 1,000 views are also discarded\n",
        "min_question_views = 1000"
      ]
    },
    {
      "cell_type": "markdown",
      "metadata": {
        "id": "AH0zmi2LIajR"
      },
      "source": [
        "### Cleaning"
      ]
    },
    {
      "cell_type": "code",
      "execution_count": 25,
      "metadata": {
        "colab": {
          "base_uri": "https://localhost:8080/",
          "height": 395
        },
        "id": "r7MLn06THM_V",
        "outputId": "e7561354-bcb7-4d8a-f2f4-5aa4b0ebc0b9"
      },
      "outputs": [
        {
          "name": "stdout",
          "output_type": "stream",
          "text": [
            "After filtering out undesireable entries, the dataframe has 33,064 rows.\n",
            "After random sampling, the dataframe has 10,000 rows.\n"
          ]
        },
        {
          "data": {
            "text/html": [
              "\n",
              "  <div id=\"df-a16efcb6-b507-423b-8e75-cf54f03bf9ed\">\n",
              "    <div class=\"colab-df-container\">\n",
              "      <div>\n",
              "<style scoped>\n",
              "    .dataframe tbody tr th:only-of-type {\n",
              "        vertical-align: middle;\n",
              "    }\n",
              "\n",
              "    .dataframe tbody tr th {\n",
              "        vertical-align: top;\n",
              "    }\n",
              "\n",
              "    .dataframe thead th {\n",
              "        text-align: right;\n",
              "    }\n",
              "</style>\n",
              "<table border=\"1\" class=\"dataframe\">\n",
              "  <thead>\n",
              "    <tr style=\"text-align: right;\">\n",
              "      <th></th>\n",
              "      <th>_id</th>\n",
              "      <th>answer_count</th>\n",
              "      <th>question_id</th>\n",
              "      <th>question_title</th>\n",
              "      <th>question_view_count</th>\n",
              "      <th>question_score</th>\n",
              "      <th>question_is_answered</th>\n",
              "      <th>question_has_highest_accepted_answer</th>\n",
              "      <th>answer_score</th>\n",
              "      <th>answer_snippets</th>\n",
              "      <th>answer_is_highest_scored</th>\n",
              "      <th>answer_url</th>\n",
              "    </tr>\n",
              "    <tr>\n",
              "      <th>answer_id</th>\n",
              "      <th></th>\n",
              "      <th></th>\n",
              "      <th></th>\n",
              "      <th></th>\n",
              "      <th></th>\n",
              "      <th></th>\n",
              "      <th></th>\n",
              "      <th></th>\n",
              "      <th></th>\n",
              "      <th></th>\n",
              "      <th></th>\n",
              "      <th></th>\n",
              "    </tr>\n",
              "  </thead>\n",
              "  <tbody>\n",
              "    <tr>\n",
              "      <th>5677564</th>\n",
              "      <td>5677347</td>\n",
              "      <td>10</td>\n",
              "      <td>5677347</td>\n",
              "      <td>Is there a better way to do C style error hand...</td>\n",
              "      <td>8380</td>\n",
              "      <td>11</td>\n",
              "      <td>True</td>\n",
              "      <td>False</td>\n",
              "      <td>3</td>\n",
              "      <td>StatusCode FooBar(int a, int b, int c, bool* o...</td>\n",
              "      <td>False</td>\n",
              "      <td>https://stackoverflow.com/a/5677564</td>\n",
              "    </tr>\n",
              "    <tr>\n",
              "      <th>54540847</th>\n",
              "      <td>4826311</td>\n",
              "      <td>15</td>\n",
              "      <td>4826311</td>\n",
              "      <td>How to sort a stack using only stack operations?</td>\n",
              "      <td>56220</td>\n",
              "      <td>26</td>\n",
              "      <td>True</td>\n",
              "      <td>True</td>\n",
              "      <td>0</td>\n",
              "      <td>class Program\\n{\\n    static void Main(string[...</td>\n",
              "      <td>False</td>\n",
              "      <td>https://stackoverflow.com/a/54540847</td>\n",
              "    </tr>\n",
              "    <tr>\n",
              "      <th>500017</th>\n",
              "      <td>500006</td>\n",
              "      <td>17</td>\n",
              "      <td>500006</td>\n",
              "      <td>What is the purpose of anonymous { } blocks in...</td>\n",
              "      <td>7267</td>\n",
              "      <td>42</td>\n",
              "      <td>True</td>\n",
              "      <td>True</td>\n",
              "      <td>2</td>\n",
              "      <td>int a=25;\\nint b=30;\\n{ //at this point, a=25,...</td>\n",
              "      <td>False</td>\n",
              "      <td>https://stackoverflow.com/a/500017</td>\n",
              "    </tr>\n",
              "  </tbody>\n",
              "</table>\n",
              "</div>\n",
              "      <button class=\"colab-df-convert\" onclick=\"convertToInteractive('df-a16efcb6-b507-423b-8e75-cf54f03bf9ed')\"\n",
              "              title=\"Convert this dataframe to an interactive table.\"\n",
              "              style=\"display:none;\">\n",
              "        \n",
              "  <svg xmlns=\"http://www.w3.org/2000/svg\" height=\"24px\"viewBox=\"0 0 24 24\"\n",
              "       width=\"24px\">\n",
              "    <path d=\"M0 0h24v24H0V0z\" fill=\"none\"/>\n",
              "    <path d=\"M18.56 5.44l.94 2.06.94-2.06 2.06-.94-2.06-.94-.94-2.06-.94 2.06-2.06.94zm-11 1L8.5 8.5l.94-2.06 2.06-.94-2.06-.94L8.5 2.5l-.94 2.06-2.06.94zm10 10l.94 2.06.94-2.06 2.06-.94-2.06-.94-.94-2.06-.94 2.06-2.06.94z\"/><path d=\"M17.41 7.96l-1.37-1.37c-.4-.4-.92-.59-1.43-.59-.52 0-1.04.2-1.43.59L10.3 9.45l-7.72 7.72c-.78.78-.78 2.05 0 2.83L4 21.41c.39.39.9.59 1.41.59.51 0 1.02-.2 1.41-.59l7.78-7.78 2.81-2.81c.8-.78.8-2.07 0-2.86zM5.41 20L4 18.59l7.72-7.72 1.47 1.35L5.41 20z\"/>\n",
              "  </svg>\n",
              "      </button>\n",
              "      \n",
              "  <style>\n",
              "    .colab-df-container {\n",
              "      display:flex;\n",
              "      flex-wrap:wrap;\n",
              "      gap: 12px;\n",
              "    }\n",
              "\n",
              "    .colab-df-convert {\n",
              "      background-color: #E8F0FE;\n",
              "      border: none;\n",
              "      border-radius: 50%;\n",
              "      cursor: pointer;\n",
              "      display: none;\n",
              "      fill: #1967D2;\n",
              "      height: 32px;\n",
              "      padding: 0 0 0 0;\n",
              "      width: 32px;\n",
              "    }\n",
              "\n",
              "    .colab-df-convert:hover {\n",
              "      background-color: #E2EBFA;\n",
              "      box-shadow: 0px 1px 2px rgba(60, 64, 67, 0.3), 0px 1px 3px 1px rgba(60, 64, 67, 0.15);\n",
              "      fill: #174EA6;\n",
              "    }\n",
              "\n",
              "    [theme=dark] .colab-df-convert {\n",
              "      background-color: #3B4455;\n",
              "      fill: #D2E3FC;\n",
              "    }\n",
              "\n",
              "    [theme=dark] .colab-df-convert:hover {\n",
              "      background-color: #434B5C;\n",
              "      box-shadow: 0px 1px 3px 1px rgba(0, 0, 0, 0.15);\n",
              "      filter: drop-shadow(0px 1px 2px rgba(0, 0, 0, 0.3));\n",
              "      fill: #FFFFFF;\n",
              "    }\n",
              "  </style>\n",
              "\n",
              "      <script>\n",
              "        const buttonEl =\n",
              "          document.querySelector('#df-a16efcb6-b507-423b-8e75-cf54f03bf9ed button.colab-df-convert');\n",
              "        buttonEl.style.display =\n",
              "          google.colab.kernel.accessAllowed ? 'block' : 'none';\n",
              "\n",
              "        async function convertToInteractive(key) {\n",
              "          const element = document.querySelector('#df-a16efcb6-b507-423b-8e75-cf54f03bf9ed');\n",
              "          const dataTable =\n",
              "            await google.colab.kernel.invokeFunction('convertToInteractive',\n",
              "                                                     [key], {});\n",
              "          if (!dataTable) return;\n",
              "\n",
              "          const docLinkHtml = 'Like what you see? Visit the ' +\n",
              "            '<a target=\"_blank\" href=https://colab.research.google.com/notebooks/data_table.ipynb>data table notebook</a>'\n",
              "            + ' to learn more about interactive tables.';\n",
              "          element.innerHTML = '';\n",
              "          dataTable['output_type'] = 'display_data';\n",
              "          await google.colab.output.renderOutput(dataTable, element);\n",
              "          const docLink = document.createElement('div');\n",
              "          docLink.innerHTML = docLinkHtml;\n",
              "          element.appendChild(docLink);\n",
              "        }\n",
              "      </script>\n",
              "    </div>\n",
              "  </div>\n",
              "  "
            ],
            "text/plain": [
              "               _id  ...                            answer_url\n",
              "answer_id           ...                                      \n",
              "5677564    5677347  ...   https://stackoverflow.com/a/5677564\n",
              "54540847   4826311  ...  https://stackoverflow.com/a/54540847\n",
              "500017      500006  ...    https://stackoverflow.com/a/500017\n",
              "\n",
              "[3 rows x 12 columns]"
            ]
          },
          "execution_count": 25,
          "metadata": {},
          "output_type": "execute_result"
        }
      ],
      "source": [
        "# Remove leading/trailing whitespace from answer code\n",
        "df['answer_snippets'] = df['answer_snippets'].str.strip()\n",
        "\n",
        "# Filter out rows with fewer than `min_snippet_len` character long answer snippets\n",
        "df = df[df['answer_snippets'].str.len() > min_snippet_len]\n",
        "\n",
        "# Filter out rows whose questions had fewer than `min_question_views` views\n",
        "df = df[df['question_view_count'] > min_question_views]\n",
        "print(f'After filtering out undesireable entries, the dataframe has {len(df):,} rows.')\n",
        "\n",
        "# Take a random sample of our dataset\n",
        "if dataset_size is not None and len(df) > dataset_size:\n",
        "  df = df.sample(dataset_size, random_state=rs)\n",
        "\n",
        "print(f'After random sampling, the dataframe has {len(df):,} rows.')\n",
        "df.head(3)"
      ]
    },
    {
      "cell_type": "markdown",
      "metadata": {
        "id": "yT0dt6OqJn2-"
      },
      "source": [
        "### Reshaping"
      ]
    },
    {
      "cell_type": "markdown",
      "metadata": {
        "id": "MpmQQnqmiAR2"
      },
      "source": [
        "Answer scores don't just correlate to how well the snippet answers a question - they also correlate to the number of views the post has gotten. To address this, I take the ratio of the\n",
        "answer's score to the question's score.\n",
        "\n",
        "The resulting ratio is highly clumped towards just over 0, as was demonstrated during the exploration stage. To spread out the data a bit more, I apply the cube root function to the ratio. This also preserves the sign of the ratio, which may be negative if the answer has a negative score."
      ]
    },
    {
      "cell_type": "code",
      "execution_count": 27,
      "metadata": {
        "colab": {
          "base_uri": "https://localhost:8080/",
          "height": 300
        },
        "id": "QAfr69d6H1zc",
        "outputId": "32754ebe-37cd-42bc-be49-fc424f1e1218"
      },
      "outputs": [
        {
          "name": "stdout",
          "output_type": "stream",
          "text": [
            "min: -1.170, max: 1.935, diff: 3.105\n"
          ]
        },
        {
          "data": {
            "text/plain": [
              "<matplotlib.axes._subplots.AxesSubplot at 0x7f981944b0d0>"
            ]
          },
          "execution_count": 27,
          "metadata": {},
          "output_type": "execute_result"
        },
        {
          "data": {
            "image/png": "[encoded data removed]",
            "text/plain": [
              "<Figure size 432x288 with 1 Axes>"
            ]
          },
          "metadata": {
            "needs_background": "light"
          },
          "output_type": "display_data"
        }
      ],
      "source": [
        "# This is OK because questions with zero score were filtered out during scraping\n",
        "df['score_ratio'] = (df['answer_score'] / df['question_score']).apply(np.cbrt)\n",
        "\n",
        "score_ratio_min = df['score_ratio'].min()\n",
        "score_ratio_max = df['score_ratio'].max()\n",
        "score_ratio_diff = score_ratio_max - score_ratio_min\n",
        "print(f'min: {score_ratio_min:.3f}, max: {score_ratio_max:.3f}, diff: {score_ratio_diff:.3f}')\n",
        "\n",
        "# Normalize score ratio between -1 and 1\n",
        "df['score_ratio_norm'] = (2 * (df['score_ratio'] - score_ratio_min) / score_ratio_diff) - 1\n",
        "df['score_ratio_norm'].hist()\n"
      ]
    },
    {
      "cell_type": "code",
      "execution_count": 28,
      "metadata": {
        "colab": {
          "base_uri": "https://localhost:8080/",
          "height": 282
        },
        "id": "-puNdXm_J9NJ",
        "outputId": "da9a1b5f-2bae-4775-c984-6acea55e4d04"
      },
      "outputs": [
        {
          "data": {
            "text/plain": [
              "<matplotlib.collections.PathCollection at 0x7f9819292b10>"
            ]
          },
          "execution_count": 28,
          "metadata": {},
          "output_type": "execute_result"
        },
        {
          "data": {
            "image/png": "[encoded data removed]",
            "text/plain": [
              "<Figure size 432x288 with 1 Axes>"
            ]
          },
          "metadata": {
            "needs_background": "light"
          },
          "output_type": "display_data"
        }
      ],
      "source": [
        "plt.scatter(df['score_ratio_norm'], df['answer_snippets'].str.len())"
      ]
    },
    {
      "cell_type": "markdown",
      "metadata": {
        "id": "nk2DGqeffwgC"
      },
      "source": [
        "### Tokinization\n",
        "\n",
        "The next step is to use the SnippetLexer to tokenize the code snippets. Snippets that are too short are right-padded while snippets that are too long are truncated."
      ]
    },
    {
      "cell_type": "code",
      "execution_count": 29,
      "metadata": {
        "colab": {
          "base_uri": "https://localhost:8080/",
          "height": 378
        },
        "id": "g0bF8ANNhJ6e",
        "outputId": "bddae772-f4e9-4cc4-ea99-39a9c7125f39"
      },
      "outputs": [
        {
          "data": {
            "text/html": [
              "\n",
              "  <div id=\"df-6c9ba041-f8e5-4c36-af82-c96797a98ade\">\n",
              "    <div class=\"colab-df-container\">\n",
              "      <div>\n",
              "<style scoped>\n",
              "    .dataframe tbody tr th:only-of-type {\n",
              "        vertical-align: middle;\n",
              "    }\n",
              "\n",
              "    .dataframe tbody tr th {\n",
              "        vertical-align: top;\n",
              "    }\n",
              "\n",
              "    .dataframe thead th {\n",
              "        text-align: right;\n",
              "    }\n",
              "</style>\n",
              "<table border=\"1\" class=\"dataframe\">\n",
              "  <thead>\n",
              "    <tr style=\"text-align: right;\">\n",
              "      <th></th>\n",
              "      <th>_id</th>\n",
              "      <th>answer_count</th>\n",
              "      <th>question_id</th>\n",
              "      <th>question_title</th>\n",
              "      <th>question_view_count</th>\n",
              "      <th>question_score</th>\n",
              "      <th>question_is_answered</th>\n",
              "      <th>question_has_highest_accepted_answer</th>\n",
              "      <th>answer_score</th>\n",
              "      <th>answer_snippets</th>\n",
              "      <th>answer_is_highest_scored</th>\n",
              "      <th>answer_url</th>\n",
              "      <th>score_ratio</th>\n",
              "      <th>score_ratio_norm</th>\n",
              "      <th>tokens</th>\n",
              "      <th>lexer_status</th>\n",
              "    </tr>\n",
              "    <tr>\n",
              "      <th>answer_id</th>\n",
              "      <th></th>\n",
              "      <th></th>\n",
              "      <th></th>\n",
              "      <th></th>\n",
              "      <th></th>\n",
              "      <th></th>\n",
              "      <th></th>\n",
              "      <th></th>\n",
              "      <th></th>\n",
              "      <th></th>\n",
              "      <th></th>\n",
              "      <th></th>\n",
              "      <th></th>\n",
              "      <th></th>\n",
              "      <th></th>\n",
              "      <th></th>\n",
              "    </tr>\n",
              "  </thead>\n",
              "  <tbody>\n",
              "    <tr>\n",
              "      <th>5677564</th>\n",
              "      <td>5677347</td>\n",
              "      <td>10</td>\n",
              "      <td>5677347</td>\n",
              "      <td>Is there a better way to do C style error hand...</td>\n",
              "      <td>8380</td>\n",
              "      <td>11</td>\n",
              "      <td>True</td>\n",
              "      <td>False</td>\n",
              "      <td>3</td>\n",
              "      <td>StatusCode FooBar(int a, int b, int c, bool* o...</td>\n",
              "      <td>False</td>\n",
              "      <td>https://stackoverflow.com/a/5677564</td>\n",
              "      <td>0.648499</td>\n",
              "      <td>0.171066</td>\n",
              "      <td>[TYPEID, TYPEID, LPAREN, INT, TYPEID, COMMA, I...</td>\n",
              "      <td>success</td>\n",
              "    </tr>\n",
              "    <tr>\n",
              "      <th>54540847</th>\n",
              "      <td>4826311</td>\n",
              "      <td>15</td>\n",
              "      <td>4826311</td>\n",
              "      <td>How to sort a stack using only stack operations?</td>\n",
              "      <td>56220</td>\n",
              "      <td>26</td>\n",
              "      <td>True</td>\n",
              "      <td>True</td>\n",
              "      <td>0</td>\n",
              "      <td>class Program\\n{\\n    static void Main(string[...</td>\n",
              "      <td>False</td>\n",
              "      <td>https://stackoverflow.com/a/54540847</td>\n",
              "      <td>0.000000</td>\n",
              "      <td>-0.246641</td>\n",
              "      <td>[TYPEID, TYPEID, LBRACE, STATIC, VOID, TYPEID,...</td>\n",
              "      <td>success</td>\n",
              "    </tr>\n",
              "    <tr>\n",
              "      <th>500017</th>\n",
              "      <td>500006</td>\n",
              "      <td>17</td>\n",
              "      <td>500006</td>\n",
              "      <td>What is the purpose of anonymous { } blocks in...</td>\n",
              "      <td>7267</td>\n",
              "      <td>42</td>\n",
              "      <td>True</td>\n",
              "      <td>True</td>\n",
              "      <td>2</td>\n",
              "      <td>int a=25;\\nint b=30;\\n{ //at this point, a=25,...</td>\n",
              "      <td>False</td>\n",
              "      <td>https://stackoverflow.com/a/500017</td>\n",
              "      <td>0.362460</td>\n",
              "      <td>-0.013176</td>\n",
              "      <td>[INT, TYPEID, EQUALS, INT_CONST_DEC, SEMI, INT...</td>\n",
              "      <td>error</td>\n",
              "    </tr>\n",
              "  </tbody>\n",
              "</table>\n",
              "</div>\n",
              "      <button class=\"colab-df-convert\" onclick=\"convertToInteractive('df-6c9ba041-f8e5-4c36-af82-c96797a98ade')\"\n",
              "              title=\"Convert this dataframe to an interactive table.\"\n",
              "              style=\"display:none;\">\n",
              "        \n",
              "  <svg xmlns=\"http://www.w3.org/2000/svg\" height=\"24px\"viewBox=\"0 0 24 24\"\n",
              "       width=\"24px\">\n",
              "    <path d=\"M0 0h24v24H0V0z\" fill=\"none\"/>\n",
              "    <path d=\"M18.56 5.44l.94 2.06.94-2.06 2.06-.94-2.06-.94-.94-2.06-.94 2.06-2.06.94zm-11 1L8.5 8.5l.94-2.06 2.06-.94-2.06-.94L8.5 2.5l-.94 2.06-2.06.94zm10 10l.94 2.06.94-2.06 2.06-.94-2.06-.94-.94-2.06-.94 2.06-2.06.94z\"/><path d=\"M17.41 7.96l-1.37-1.37c-.4-.4-.92-.59-1.43-.59-.52 0-1.04.2-1.43.59L10.3 9.45l-7.72 7.72c-.78.78-.78 2.05 0 2.83L4 21.41c.39.39.9.59 1.41.59.51 0 1.02-.2 1.41-.59l7.78-7.78 2.81-2.81c.8-.78.8-2.07 0-2.86zM5.41 20L4 18.59l7.72-7.72 1.47 1.35L5.41 20z\"/>\n",
              "  </svg>\n",
              "      </button>\n",
              "      \n",
              "  <style>\n",
              "    .colab-df-container {\n",
              "      display:flex;\n",
              "      flex-wrap:wrap;\n",
              "      gap: 12px;\n",
              "    }\n",
              "\n",
              "    .colab-df-convert {\n",
              "      background-color: #E8F0FE;\n",
              "      border: none;\n",
              "      border-radius: 50%;\n",
              "      cursor: pointer;\n",
              "      display: none;\n",
              "      fill: #1967D2;\n",
              "      height: 32px;\n",
              "      padding: 0 0 0 0;\n",
              "      width: 32px;\n",
              "    }\n",
              "\n",
              "    .colab-df-convert:hover {\n",
              "      background-color: #E2EBFA;\n",
              "      box-shadow: 0px 1px 2px rgba(60, 64, 67, 0.3), 0px 1px 3px 1px rgba(60, 64, 67, 0.15);\n",
              "      fill: #174EA6;\n",
              "    }\n",
              "\n",
              "    [theme=dark] .colab-df-convert {\n",
              "      background-color: #3B4455;\n",
              "      fill: #D2E3FC;\n",
              "    }\n",
              "\n",
              "    [theme=dark] .colab-df-convert:hover {\n",
              "      background-color: #434B5C;\n",
              "      box-shadow: 0px 1px 3px 1px rgba(0, 0, 0, 0.15);\n",
              "      filter: drop-shadow(0px 1px 2px rgba(0, 0, 0, 0.3));\n",
              "      fill: #FFFFFF;\n",
              "    }\n",
              "  </style>\n",
              "\n",
              "      <script>\n",
              "        const buttonEl =\n",
              "          document.querySelector('#df-6c9ba041-f8e5-4c36-af82-c96797a98ade button.colab-df-convert');\n",
              "        buttonEl.style.display =\n",
              "          google.colab.kernel.accessAllowed ? 'block' : 'none';\n",
              "\n",
              "        async function convertToInteractive(key) {\n",
              "          const element = document.querySelector('#df-6c9ba041-f8e5-4c36-af82-c96797a98ade');\n",
              "          const dataTable =\n",
              "            await google.colab.kernel.invokeFunction('convertToInteractive',\n",
              "                                                     [key], {});\n",
              "          if (!dataTable) return;\n",
              "\n",
              "          const docLinkHtml = 'Like what you see? Visit the ' +\n",
              "            '<a target=\"_blank\" href=https://colab.research.google.com/notebooks/data_table.ipynb>data table notebook</a>'\n",
              "            + ' to learn more about interactive tables.';\n",
              "          element.innerHTML = '';\n",
              "          dataTable['output_type'] = 'display_data';\n",
              "          await google.colab.output.renderOutput(dataTable, element);\n",
              "          const docLink = document.createElement('div');\n",
              "          docLink.innerHTML = docLinkHtml;\n",
              "          element.appendChild(docLink);\n",
              "        }\n",
              "      </script>\n",
              "    </div>\n",
              "  </div>\n",
              "  "
            ],
            "text/plain": [
              "               _id  ...  lexer_status\n",
              "answer_id           ...              \n",
              "5677564    5677347  ...       success\n",
              "54540847   4826311  ...       success\n",
              "500017      500006  ...         error\n",
              "\n",
              "[3 rows x 16 columns]"
            ]
          },
          "execution_count": 29,
          "metadata": {},
          "output_type": "execute_result"
        }
      ],
      "source": [
        "# Turn the code snippets into tokens\n",
        "lexer = SnippetLexer()\n",
        "\n",
        "# def tokenize(snippet: str) -> Tuple[np.ndarray, LexerStatus]:\n",
        "def tokenize(answer: pd.Series) -> Tuple[np.ndarray, LexerStatus]:\n",
        "  snippet = answer['answer_snippets']\n",
        "  toks, status = lexer.lex(snippet)\n",
        "  toks = np.array([tok.type for tok in toks], dtype=str)\n",
        "\n",
        "  # Right pad the tokens util they are toks_per_seq long\n",
        "  pad_amount = toks_per_seq - len(toks)\n",
        "\n",
        "  # Pad token sequences that are too short\n",
        "  if pad_amount > 0:\n",
        "    toks = np.pad(toks, (0, pad_amount), 'constant', constant_values='<PAD>')\n",
        "\n",
        "  # Truncate ones that are too long\n",
        "  elif pad_amount < 0:\n",
        "    toks = toks[:toks_per_seq] \n",
        "\n",
        "  assert len(toks) == toks_per_seq, f'Expected {toks_per_seq} tokens, got {len(toks)}'\n",
        "  return toks, status\n",
        "\n",
        "# lexer_status is either 'success' or 'error'\n",
        "df[['tokens', 'lexer_status']] = pd.DataFrame(df.apply(tokenize, axis=1).tolist(),\n",
        "                                              index=df.index)\n",
        "\n",
        "df.head(3)"
      ]
    },
    {
      "cell_type": "markdown",
      "metadata": {
        "id": "KoN8LW3_HhvH"
      },
      "source": [
        "Snippets that failed to tokenize are likely invalid code. Therefore, they are removed."
      ]
    },
    {
      "cell_type": "code",
      "execution_count": 30,
      "metadata": {
        "colab": {
          "base_uri": "https://localhost:8080/"
        },
        "id": "jCQnIXXXkQt_",
        "outputId": "08a5660a-866e-4693-92a1-2c250cd0d694"
      },
      "outputs": [
        {
          "name": "stdout",
          "output_type": "stream",
          "text": [
            "Filtered out 22.27% of the dataset because they failed tokenization.\n"
          ]
        }
      ],
      "source": [
        "# Remove snippets that failed to tokenize\n",
        "df_start_len = len(df)\n",
        "df = df[df['lexer_status'] == 'success']\n",
        "df_filtered_len = len(df)\n",
        "removed_percent = (df_start_len - df_filtered_len) / df_start_len * 100\n",
        "print(f'Filtered out {removed_percent:.2f}% of the dataset because they failed tokenization.')"
      ]
    },
    {
      "cell_type": "code",
      "execution_count": 31,
      "metadata": {
        "colab": {
          "base_uri": "https://localhost:8080/"
        },
        "id": "xReXaRo6glHR",
        "outputId": "6a4e0ca2-43b8-43fd-cc0e-cbeda7e4ec02"
      },
      "outputs": [
        {
          "name": "stdout",
          "output_type": "stream",
          "text": [
            "vocab has 113 token types.\n",
            "['<PAD>' 'AND' 'ANDEQUAL' 'ARROW' 'AUTO' 'BREAK' 'CASE' 'CHAR'\n",
            " 'CHAR_CONST' 'COLON' 'COMMA' 'CONDOP' 'CONST' 'CONTINUE' 'DEFAULT'\n",
            " 'DIVEQUAL' 'DIVIDE' 'DO' 'DOUBLE' 'ELLIPSIS' 'ELSE' 'ENUM' 'EQ' 'EQUALS'\n",
            " 'EXTERN' 'FLOAT' 'FLOAT_CONST' 'FOR' 'GE' 'GOTO' 'GT' 'HEX_FLOAT_CONST'\n",
            " 'ID' 'IF' 'INLINE' 'INT' 'INT_CONST_BIN' 'INT_CONST_CHAR' 'INT_CONST_DEC'\n",
            " 'INT_CONST_HEX' 'INT_CONST_OCT' 'LAND' 'LBRACE' 'LBRACKET' 'LE' 'LNOT'\n",
            " 'LONG' 'LOR' 'LPAREN' 'LSHIFT' 'LSHIFTEQUAL' 'LT' 'MINUS' 'MINUSEQUAL'\n",
            " 'MINUSMINUS' 'MOD' 'MODEQUAL' 'NE' 'NOT' 'OFFSETOF' 'OR' 'OREQUAL'\n",
            " 'PERIOD' 'PLUS' 'PLUSEQUAL' 'PLUSPLUS' 'PPHASH' 'PPPRAGMA' 'PPPRAGMASTR'\n",
            " 'RBRACE' 'RBRACKET' 'REGISTER' 'RESTRICT' 'RETURN' 'RPAREN' 'RSHIFT'\n",
            " 'RSHIFTEQUAL' 'SEMI' 'SHORT' 'SIGNED' 'SIZEOF' 'STATIC' 'STRING_LITERAL'\n",
            " 'STRUCT' 'SWITCH' 'TIMES' 'TIMESEQUAL' 'TYPEDEF' 'TYPEID' 'U16CHAR_CONST'\n",
            " 'U16STRING_LITERAL' 'U32CHAR_CONST' 'U32STRING_LITERAL' 'U8CHAR_CONST'\n",
            " 'U8STRING_LITERAL' 'UNION' 'UNSIGNED' 'VOID' 'VOLATILE' 'WCHAR_CONST'\n",
            " 'WHILE' 'WSTRING_LITERAL' 'XOR' 'XOREQUAL' '_ALIGNAS' '_ALIGNOF'\n",
            " '_ATOMIC' '_BOOL' '_COMPLEX' '_NORETURN' '_STATIC_ASSERT' '_THREAD_LOCAL'\n",
            " '__INT128']\n"
          ]
        }
      ],
      "source": [
        "vocab = np.append(np.asarray(lexer.tokens),\n",
        "                   '<PAD>')\n",
        "\n",
        "vocab_len = len(vocab)\n",
        "print(f'vocab has {vocab_len} token types.')\n",
        "vocab_dict: Dict[str, int] = dict()\n",
        "\n",
        "for i, type in enumerate(vocab):\n",
        "    vocab_dict[type] = i\n",
        "\n",
        "print(np.sort(vocab))"
      ]
    },
    {
      "cell_type": "markdown",
      "metadata": {
        "id": "BoIR2k4rIF3n"
      },
      "source": [
        "The models cannot operate on raw token types - they require a vector for input. To accomplish this, I one-hot encoded each token. The first step to doing this is converting each token type in the vocabulary into a numeric representation."
      ]
    },
    {
      "cell_type": "code",
      "execution_count": null,
      "metadata": {
        "colab": {
          "base_uri": "https://localhost:8080/"
        },
        "id": "0awcfV4_gtjn",
        "outputId": "3cacb977-89f8-4410-ec00-0e7b4d288459"
      },
      "outputs": [
        {
          "data": {
            "text/html": [
              "\n",
              "  <div id=\"df-dc96767d-e6fd-44e2-9d6c-c36cc542ff97\">\n",
              "    <div class=\"colab-df-container\">\n",
              "      <div>\n",
              "<style scoped>\n",
              "    .dataframe tbody tr th:only-of-type {\n",
              "        vertical-align: middle;\n",
              "    }\n",
              "\n",
              "    .dataframe tbody tr th {\n",
              "        vertical-align: top;\n",
              "    }\n",
              "\n",
              "    .dataframe thead th {\n",
              "        text-align: right;\n",
              "    }\n",
              "</style>\n",
              "<table border=\"1\" class=\"dataframe\">\n",
              "  <thead>\n",
              "    <tr style=\"text-align: right;\">\n",
              "      <th></th>\n",
              "      <th>_id</th>\n",
              "      <th>answer_count</th>\n",
              "      <th>question_id</th>\n",
              "      <th>question_title</th>\n",
              "      <th>question_view_count</th>\n",
              "      <th>question_score</th>\n",
              "      <th>question_is_answered</th>\n",
              "      <th>question_has_highest_accepted_answer</th>\n",
              "      <th>answer_score</th>\n",
              "      <th>answer_snippets</th>\n",
              "      <th>answer_is_highest_scored</th>\n",
              "      <th>answer_url</th>\n",
              "      <th>score_ratio</th>\n",
              "      <th>score_ratio_norm</th>\n",
              "      <th>tokens</th>\n",
              "      <th>lexer_status</th>\n",
              "      <th>encoded_tokens</th>\n",
              "    </tr>\n",
              "    <tr>\n",
              "      <th>answer_id</th>\n",
              "      <th></th>\n",
              "      <th></th>\n",
              "      <th></th>\n",
              "      <th></th>\n",
              "      <th></th>\n",
              "      <th></th>\n",
              "      <th></th>\n",
              "      <th></th>\n",
              "      <th></th>\n",
              "      <th></th>\n",
              "      <th></th>\n",
              "      <th></th>\n",
              "      <th></th>\n",
              "      <th></th>\n",
              "      <th></th>\n",
              "      <th></th>\n",
              "      <th></th>\n",
              "    </tr>\n",
              "  </thead>\n",
              "  <tbody>\n",
              "    <tr>\n",
              "      <th>5677564</th>\n",
              "      <td>5677347</td>\n",
              "      <td>10</td>\n",
              "      <td>5677347</td>\n",
              "      <td>Is there a better way to do C style error hand...</td>\n",
              "      <td>8380</td>\n",
              "      <td>11</td>\n",
              "      <td>True</td>\n",
              "      <td>False</td>\n",
              "      <td>3</td>\n",
              "      <td>StatusCode FooBar(int a, int b, int c, bool* o...</td>\n",
              "      <td>False</td>\n",
              "      <td>https://stackoverflow.com/a/5677564</td>\n",
              "      <td>0.648499</td>\n",
              "      <td>0.171066</td>\n",
              "      <td>[TYPEID, TYPEID, LPAREN, INT, TYPEID, COMMA, I...</td>\n",
              "      <td>success</td>\n",
              "      <td>[39, 39, 86, 19, 39, 92, 19, 39, 92, 19, 39, 9...</td>\n",
              "    </tr>\n",
              "    <tr>\n",
              "      <th>54540847</th>\n",
              "      <td>4826311</td>\n",
              "      <td>15</td>\n",
              "      <td>4826311</td>\n",
              "      <td>How to sort a stack using only stack operations?</td>\n",
              "      <td>56220</td>\n",
              "      <td>26</td>\n",
              "      <td>True</td>\n",
              "      <td>True</td>\n",
              "      <td>0</td>\n",
              "      <td>class Program\\n{\\n    static void Main(string[...</td>\n",
              "      <td>False</td>\n",
              "      <td>https://stackoverflow.com/a/54540847</td>\n",
              "      <td>0.000000</td>\n",
              "      <td>-0.246641</td>\n",
              "      <td>[TYPEID, TYPEID, LBRACE, STATIC, VOID, TYPEID,...</td>\n",
              "      <td>success</td>\n",
              "      <td>[39, 39, 90, 28, 34, 39, 86, 39, 88, 89, 39, 8...</td>\n",
              "    </tr>\n",
              "  </tbody>\n",
              "</table>\n",
              "</div>\n",
              "      <button class=\"colab-df-convert\" onclick=\"convertToInteractive('df-dc96767d-e6fd-44e2-9d6c-c36cc542ff97')\"\n",
              "              title=\"Convert this dataframe to an interactive table.\"\n",
              "              style=\"display:none;\">\n",
              "        \n",
              "  <svg xmlns=\"http://www.w3.org/2000/svg\" height=\"24px\"viewBox=\"0 0 24 24\"\n",
              "       width=\"24px\">\n",
              "    <path d=\"M0 0h24v24H0V0z\" fill=\"none\"/>\n",
              "    <path d=\"M18.56 5.44l.94 2.06.94-2.06 2.06-.94-2.06-.94-.94-2.06-.94 2.06-2.06.94zm-11 1L8.5 8.5l.94-2.06 2.06-.94-2.06-.94L8.5 2.5l-.94 2.06-2.06.94zm10 10l.94 2.06.94-2.06 2.06-.94-2.06-.94-.94-2.06-.94 2.06-2.06.94z\"/><path d=\"M17.41 7.96l-1.37-1.37c-.4-.4-.92-.59-1.43-.59-.52 0-1.04.2-1.43.59L10.3 9.45l-7.72 7.72c-.78.78-.78 2.05 0 2.83L4 21.41c.39.39.9.59 1.41.59.51 0 1.02-.2 1.41-.59l7.78-7.78 2.81-2.81c.8-.78.8-2.07 0-2.86zM5.41 20L4 18.59l7.72-7.72 1.47 1.35L5.41 20z\"/>\n",
              "  </svg>\n",
              "      </button>\n",
              "      \n",
              "  <style>\n",
              "    .colab-df-container {\n",
              "      display:flex;\n",
              "      flex-wrap:wrap;\n",
              "      gap: 12px;\n",
              "    }\n",
              "\n",
              "    .colab-df-convert {\n",
              "      background-color: #E8F0FE;\n",
              "      border: none;\n",
              "      border-radius: 50%;\n",
              "      cursor: pointer;\n",
              "      display: none;\n",
              "      fill: #1967D2;\n",
              "      height: 32px;\n",
              "      padding: 0 0 0 0;\n",
              "      width: 32px;\n",
              "    }\n",
              "\n",
              "    .colab-df-convert:hover {\n",
              "      background-color: #E2EBFA;\n",
              "      box-shadow: 0px 1px 2px rgba(60, 64, 67, 0.3), 0px 1px 3px 1px rgba(60, 64, 67, 0.15);\n",
              "      fill: #174EA6;\n",
              "    }\n",
              "\n",
              "    [theme=dark] .colab-df-convert {\n",
              "      background-color: #3B4455;\n",
              "      fill: #D2E3FC;\n",
              "    }\n",
              "\n",
              "    [theme=dark] .colab-df-convert:hover {\n",
              "      background-color: #434B5C;\n",
              "      box-shadow: 0px 1px 3px 1px rgba(0, 0, 0, 0.15);\n",
              "      filter: drop-shadow(0px 1px 2px rgba(0, 0, 0, 0.3));\n",
              "      fill: #FFFFFF;\n",
              "    }\n",
              "  </style>\n",
              "\n",
              "      <script>\n",
              "        const buttonEl =\n",
              "          document.querySelector('#df-dc96767d-e6fd-44e2-9d6c-c36cc542ff97 button.colab-df-convert');\n",
              "        buttonEl.style.display =\n",
              "          google.colab.kernel.accessAllowed ? 'block' : 'none';\n",
              "\n",
              "        async function convertToInteractive(key) {\n",
              "          const element = document.querySelector('#df-dc96767d-e6fd-44e2-9d6c-c36cc542ff97');\n",
              "          const dataTable =\n",
              "            await google.colab.kernel.invokeFunction('convertToInteractive',\n",
              "                                                     [key], {});\n",
              "          if (!dataTable) return;\n",
              "\n",
              "          const docLinkHtml = 'Like what you see? Visit the ' +\n",
              "            '<a target=\"_blank\" href=https://colab.research.google.com/notebooks/data_table.ipynb>data table notebook</a>'\n",
              "            + ' to learn more about interactive tables.';\n",
              "          element.innerHTML = '';\n",
              "          dataTable['output_type'] = 'display_data';\n",
              "          await google.colab.output.renderOutput(dataTable, element);\n",
              "          const docLink = document.createElement('div');\n",
              "          docLink.innerHTML = docLinkHtml;\n",
              "          element.appendChild(docLink);\n",
              "        }\n",
              "      </script>\n",
              "    </div>\n",
              "  </div>\n",
              "  "
            ],
            "text/plain": [
              "               _id  ...                                     encoded_tokens\n",
              "answer_id           ...                                                   \n",
              "5677564    5677347  ...  [39, 39, 86, 19, 39, 92, 19, 39, 92, 19, 39, 9...\n",
              "54540847   4826311  ...  [39, 39, 90, 28, 34, 39, 86, 39, 88, 89, 39, 8...\n",
              "\n",
              "[2 rows x 17 columns]"
            ]
          },
          "execution_count": 31,
          "metadata": {},
          "output_type": "execute_result"
        }
      ],
      "source": [
        "def toks_to_nums(toks):\n",
        "  return np.asarray([vocab_dict[tok] for tok in toks])\n",
        "\n",
        "df['encoded_tokens'] = df['tokens'].apply(toks_to_nums)\n",
        "df.head(2)"
      ]
    },
    {
      "cell_type": "markdown",
      "metadata": {
        "id": "c_EWpn1qtyIi"
      },
      "source": [
        "# My Machine Learns but I Don't\n",
        "\n",
        "Now that the data is ready, I can begin training the models. The first model is a Random Forest classifier operating on a Term Frequency/Inverse Document Frequency (TF/IDF) encoding. This is used as a control to compare the performance of the later models. The second model is a simple LSTM model, and the third one is a stacked LSTM model."
      ]
    },
    {
      "cell_type": "code",
      "execution_count": null,
      "metadata": {
        "id": "a3ZmLvH23Ea5"
      },
      "outputs": [],
      "source": [
        "# Fraction of the dataset (0-1 inclusive) to use for validation. The model will\n",
        "# not train on this data, instead reserving it for checking its performance.\n",
        "validation_split = 0.2\n",
        "\n",
        "test = df.sample(frac=validation_split, random_state=rs)\n",
        "train = df.drop(test.index, inplace=False)"
      ]
    },
    {
      "cell_type": "markdown",
      "metadata": {
        "id": "D5f1uOs9t3fj"
      },
      "source": [
        "## Control - TF/IDF with Random Forests\n"
      ]
    },
    {
      "cell_type": "code",
      "execution_count": null,
      "metadata": {
        "colab": {
          "base_uri": "https://localhost:8080/"
        },
        "id": "MEwfmcxzt-a9",
        "outputId": "15081c64-9ce8-42e7-8eeb-952a513f241c"
      },
      "outputs": [
        {
          "name": "stdout",
          "output_type": "stream",
          "text": [
            "Fitting 3 folds for each of 8 candidates, totalling 24 fits\n",
            "[CV 1/3] END rf__max_depth=10, rf__min_impurity_decrease=0.01, rf__n_estimators=100;, score=-0.075 total time=   4.6s\n",
            "[CV 2/3] END rf__max_depth=10, rf__min_impurity_decrease=0.01, rf__n_estimators=100;, score=-0.078 total time=   4.6s\n",
            "[CV 3/3] END rf__max_depth=10, rf__min_impurity_decrease=0.01, rf__n_estimators=100;, score=-0.078 total time=   4.6s\n",
            "[CV 1/3] END rf__max_depth=10, rf__min_impurity_decrease=0.01, rf__n_estimators=150;, score=-0.075 total time=   4.8s\n",
            "[CV 2/3] END rf__max_depth=10, rf__min_impurity_decrease=0.01, rf__n_estimators=150;, score=-0.078 total time=   4.8s\n",
            "[CV 3/3] END rf__max_depth=10, rf__min_impurity_decrease=0.01, rf__n_estimators=150;, score=-0.078 total time=   4.8s\n",
            "[CV 1/3] END rf__max_depth=10, rf__min_impurity_decrease=0.1, rf__n_estimators=100;, score=-0.075 total time=   4.6s\n",
            "[CV 2/3] END rf__max_depth=10, rf__min_impurity_decrease=0.1, rf__n_estimators=100;, score=-0.078 total time=   4.5s\n",
            "[CV 3/3] END rf__max_depth=10, rf__min_impurity_decrease=0.1, rf__n_estimators=100;, score=-0.078 total time=   4.6s\n",
            "[CV 1/3] END rf__max_depth=10, rf__min_impurity_decrease=0.1, rf__n_estimators=150;, score=-0.075 total time=   4.8s\n",
            "[CV 2/3] END rf__max_depth=10, rf__min_impurity_decrease=0.1, rf__n_estimators=150;, score=-0.078 total time=   4.8s\n",
            "[CV 3/3] END rf__max_depth=10, rf__min_impurity_decrease=0.1, rf__n_estimators=150;, score=-0.078 total time=   4.8s\n",
            "[CV 1/3] END rf__max_depth=100, rf__min_impurity_decrease=0.01, rf__n_estimators=100;, score=-0.075 total time=   4.5s\n",
            "[CV 2/3] END rf__max_depth=100, rf__min_impurity_decrease=0.01, rf__n_estimators=100;, score=-0.078 total time=   4.6s\n",
            "[CV 3/3] END rf__max_depth=100, rf__min_impurity_decrease=0.01, rf__n_estimators=100;, score=-0.078 total time=   4.6s\n",
            "[CV 1/3] END rf__max_depth=100, rf__min_impurity_decrease=0.01, rf__n_estimators=150;, score=-0.075 total time=   4.9s\n",
            "[CV 2/3] END rf__max_depth=100, rf__min_impurity_decrease=0.01, rf__n_estimators=150;, score=-0.078 total time=   4.8s\n",
            "[CV 3/3] END rf__max_depth=100, rf__min_impurity_decrease=0.01, rf__n_estimators=150;, score=-0.078 total time=   4.8s\n",
            "[CV 1/3] END rf__max_depth=100, rf__min_impurity_decrease=0.1, rf__n_estimators=100;, score=-0.075 total time=   4.5s\n",
            "[CV 2/3] END rf__max_depth=100, rf__min_impurity_decrease=0.1, rf__n_estimators=100;, score=-0.078 total time=   4.5s\n",
            "[CV 3/3] END rf__max_depth=100, rf__min_impurity_decrease=0.1, rf__n_estimators=100;, score=-0.078 total time=   4.6s\n",
            "[CV 1/3] END rf__max_depth=100, rf__min_impurity_decrease=0.1, rf__n_estimators=150;, score=-0.075 total time=   4.9s\n",
            "[CV 2/3] END rf__max_depth=100, rf__min_impurity_decrease=0.1, rf__n_estimators=150;, score=-0.078 total time=   4.8s\n",
            "[CV 3/3] END rf__max_depth=100, rf__min_impurity_decrease=0.1, rf__n_estimators=150;, score=-0.078 total time=   4.8s\n"
          ]
        }
      ],
      "source": [
        "def train_random_forest():\n",
        "  # Use an identity function for tokinzation, as the input data is already\n",
        "  # tokenized.\n",
        "  ident = lambda x: x\n",
        " \n",
        "  pipeline = Pipeline([('token-selector', ColumnSelector(cols=('tokens'),\n",
        "                                                         drop_axis=True)),\n",
        "                       ('tfidf', TfidfVectorizer(analyzer='word',\n",
        "                                                 tokenizer=ident,\n",
        "                                                 preprocessor=ident,\n",
        "                                                 token_pattern=None\n",
        "                                                 )),\n",
        "                       ('rf', RandomForestRegressor(random_state=rs,\n",
        "                                                    bootstrap=True))\n",
        "  ])\n",
        "\n",
        "  # Hyperparameters to tune\n",
        "  param_grid = {\n",
        "      'rf__n_estimators': [100, 150],\n",
        "      'rf__max_depth': [10, 100],\n",
        "      'rf__min_impurity_decrease': [0.01, 0.1]\n",
        "  }\n",
        "\n",
        "  # Tuning is performed with a grid search\n",
        "  cv = GridSearchCV(pipeline,\n",
        "                    param_grid=param_grid,\n",
        "                    scoring='neg_mean_squared_error',\n",
        "                    cv=3,\n",
        "                    error_score='raise',\n",
        "                    verbose=3)\n",
        "  \n",
        "\n",
        "\n",
        "  cv.fit(train, train['score_ratio_norm'])\n",
        "\n",
        "  return cv\n",
        "\n",
        "df_start_len = len(df)\n",
        "rfr = train_random_forest() # Random Forest Regressor\n",
        "df_end_len = len(df)\n",
        "\n",
        "assert df_start_len == df_end_len, f'{df_start_len - df_end_len} rows were dropped during training'"
      ]
    },
    {
      "cell_type": "markdown",
      "metadata": {
        "id": "SgB2NGFVkAVC"
      },
      "source": [
        "### Random Forest Regression Results"
      ]
    },
    {
      "cell_type": "code",
      "execution_count": null,
      "metadata": {
        "colab": {
          "base_uri": "https://localhost:8080/"
        },
        "id": "z6vZW8J2CayH",
        "outputId": "d198b4fb-823c-40df-e04e-37d12daf20bf"
      },
      "outputs": [
        {
          "name": "stdout",
          "output_type": "stream",
          "text": [
            "Best score: -0.07697715913609798\n",
            "Error score: raise\n",
            "Test Accuracy: -0.076\n",
            "Training Accuracy: -0.077\n"
          ]
        },
        {
          "data": {
            "text/plain": [
              "{'rf__max_depth': 10,\n",
              " 'rf__min_impurity_decrease': 0.01,\n",
              " 'rf__n_estimators': 150}"
            ]
          },
          "execution_count": 78,
          "metadata": {},
          "output_type": "execute_result"
        }
      ],
      "source": [
        "print(f'Best score: {rfr.best_score_}')\n",
        "print(f'Error score: {rfr.error_score}')\n",
        "print(f'Test Accuracy: {rfr.score(test, test[\"score_ratio_norm\"]):.3f}')\n",
        "print(f'Training Accuracy: {rfr.score(train, train[\"score_ratio_norm\"]):.3f}')\n",
        "\n",
        "rfr.best_params_"
      ]
    },
    {
      "cell_type": "code",
      "execution_count": null,
      "metadata": {
        "colab": {
          "base_uri": "https://localhost:8080/"
        },
        "id": "P6t15M0ZBpj_",
        "outputId": "403560f4-bb2c-4f80-a71a-6f0a238d1b23"
      },
      "outputs": [
        {
          "data": {
            "image/png": "[encoded data removed]",
            "text/plain": [
              "<Figure size 432x288 with 1 Axes>"
            ]
          },
          "metadata": {
            "needs_background": "light"
          },
          "output_type": "display_data"
        }
      ],
      "source": [
        "y_test = test['score_ratio_norm']\n",
        "y_predicted = rfr.predict(test)\n",
        "\n",
        "fig, ax = plt.subplots()\n",
        "ax.scatter(y_predicted, y_test, edgecolors=(0, 0, 1))\n",
        "ax.plot([y_test.min(), y_test.max()], [y_test.min(), y_test.max()], 'r--', lw=3)\n",
        "\n",
        "plt.xlim(-1, 1)\n",
        "plt.ylim(-1, 1)\n",
        "\n",
        "ax.set_title('Answer Score Prediction with Random Forest Regression')\n",
        "ax.set_xlabel('Predicted')\n",
        "ax.set_ylabel('Actual')\n",
        "plt.show()\n"
      ]
    },
    {
      "cell_type": "markdown",
      "metadata": {
        "id": "iNn1kscVJJgH"
      },
      "source": [
        "Unfortunately, it seems the Random Forest was unable to find any patterns in the data and ended up just predicting the mean score ratio."
      ]
    },
    {
      "cell_type": "markdown",
      "metadata": {
        "id": "BhC2YAT2f0pk"
      },
      "source": [
        "## LSTM v1"
      ]
    },
    {
      "cell_type": "markdown",
      "metadata": {
        "id": "JOXO0CWzMnOC"
      },
      "source": [
        "### Building and Setup"
      ]
    },
    {
      "cell_type": "code",
      "execution_count": null,
      "metadata": {
        "id": "R0_1GASgnX7s"
      },
      "outputs": [],
      "source": [
        "# Number of passes of the training dataset the model will complete during\n",
        "# gradient descent.\n",
        "max_epochs = 100\n",
        "\n",
        "# How many epochs to run after no improvement has occurred.\n",
        "epoch_patience = 5\n",
        "\n",
        "# Number of training samples to process before updating weights/biases. Used\n",
        "# in stochastic gradient descent.\n",
        "batch_size = 128"
      ]
    },
    {
      "cell_type": "code",
      "execution_count": null,
      "metadata": {
        "colab": {
          "base_uri": "https://localhost:8080/"
        },
        "id": "U-ttBduygzE7",
        "outputId": "436c06c7-8980-4e85-f63d-8882766ee9c9"
      },
      "outputs": [
        {
          "name": "stdout",
          "output_type": "stream",
          "text": [
            "Features shape: (7773, 1500, 101)\n",
            "Predictions shape: (7773,)\n"
          ]
        }
      ],
      "source": [
        "# One-hot encode the token sequences\n",
        "X = tf.one_hot(np.stack(df['encoded_tokens'].values),\n",
        "               vocab_len,\n",
        "               dtype=np.float32)\n",
        "\n",
        "\n",
        "y = tf.convert_to_tensor(df['score_ratio_norm'])\n",
        "assert X.shape[0] == y.shape[0]\n",
        "\n",
        "print(f'Features shape: {X.shape}')\n",
        "print(f'Predictions shape: {y.shape}')\n"
      ]
    },
    {
      "cell_type": "markdown",
      "metadata": {
        "id": "GRY9x-dYMs7t"
      },
      "source": [
        "### Training the Model\n",
        "\n",
        "Hyperparameter tuning was performed with the [Hyperband](https://arxiv.org/abs/1603.06560) algorithm. The implementation of this algorithm was provided by [keras-tuner](https://www.tensorflow.org/tutorials/keras/keras_tuner)."
      ]
    },
    {
      "cell_type": "code",
      "execution_count": null,
      "metadata": {
        "colab": {
          "base_uri": "https://localhost:8080/"
        },
        "id": "M2nA7b1xnHjw",
        "outputId": "7f78c52f-5e85-4e8d-83ae-5d342c1bed83"
      },
      "outputs": [
        {
          "name": "stdout",
          "output_type": "stream",
          "text": [
            "INFO:tensorflow:Reloading Oracle from existing project training2/lstm_v1/oracle.json\n",
            "INFO:tensorflow:Reloading Tuner from training2/lstm_v1/tuner0.json\n",
            "Search space summary\n",
            "Default search space size: 3\n",
            "hidden_layer_size (Int)\n",
            "{'default': None, 'conditions': [], 'min_value': 50, 'max_value': 200, 'step': 25, 'sampling': None}\n",
            "use_amsgrad (Boolean)\n",
            "{'default': False, 'conditions': []}\n",
            "step_size (Float)\n",
            "{'default': 0.0001, 'conditions': [], 'min_value': 0.0001, 'max_value': 0.02, 'step': None, 'sampling': 'log'}\n"
          ]
        }
      ],
      "source": [
        "def build_lstm_v1(hp: kt.HyperParameters) -> k.Sequential:\n",
        "  hidden_layer_size = hp.Int('hidden_layer_size',\n",
        "                             min_value=50,\n",
        "                             max_value=200,\n",
        "                             step=25)\n",
        "\n",
        "  model: k.Sequential = keras.Sequential([\n",
        "      layers.Input(shape=(toks_per_seq, vocab_len)),\n",
        "\n",
        "\n",
        "      layers.LSTM(units=hidden_layer_size,\n",
        "                  return_sequences=False,\n",
        "                  name='tok-lstm-1'),\n",
        "\n",
        "      layers.Dense(1, activation='tanh', name='output')\n",
        "  ])\n",
        "\n",
        "  use_amsgrad = hp.Boolean('use_amsgrad')\n",
        "  learning_rate = hp.Float('step_size',\n",
        "                           0.0001,\n",
        "                           0.02,\n",
        "                           sampling='log')\n",
        "  optimizer = keras.optimizers.Adam(learning_rate, amsgrad=use_amsgrad)\n",
        "\n",
        "  ################################################################################\n",
        "  # Compile the model into a trainable neural network.\n",
        "  # Model.compile() docs: https://keras.io/api/models/model_training_apis/#compile-method\n",
        "  #\n",
        "  # optimizer := Function used to minimize loss function via gradient descent.\n",
        "  #              Full list of available optimizers may be found here: \n",
        "  #              https://www.tensorflow.org/api_docs/python/tf/keras/optimizers\n",
        "  # - sgd = Stochastic Gradient Descent (https://keras.io/api/optimizers/sgd/)\n",
        "  #\n",
        "  # loss := loss function to minimize\n",
        "  # - mse = Mean Square Error (https://keras.io/api/losses/regression_losses/)\n",
        "  #\n",
        "  model.compile(optimizer=optimizer,\n",
        "                loss='mse',\n",
        "                metrics=['accuracy'])\n",
        "  return model\n",
        "\n",
        "tuner = kt.Hyperband(build_lstm_v1,\n",
        "                     objective='val_loss',\n",
        "                     max_epochs=max_epochs,\n",
        "                     factor=3,\n",
        "                     seed=random_state,\n",
        "                     directory='training2',\n",
        "                     project_name='lstm_v1')\n",
        "\n",
        "tuner.search_space_summary()"
      ]
    },
    {
      "cell_type": "code",
      "execution_count": null,
      "metadata": {
        "id": "xhDMck4YtWLs"
      },
      "outputs": [],
      "source": [
        "def train(tuner: kt.Hyperband):\n",
        "  # This callback saves the best model found during training to a file\n",
        "  model_file = f'c-score-predictor-{time.time()}'\n",
        "  checkpoint = ModelCheckpoint(\n",
        "      filepath=model_file,\n",
        "      save_weights_only=True,\n",
        "      monitor='val_loss',\n",
        "      mode='max',\n",
        "      save_best_only=True)\n",
        "\n",
        "  class LossHistory(Callback):\n",
        "    def on_train_begin(self, logs={}):\n",
        "      self.losses: List[float] = []\n",
        "      self.val_losses: List[float] = []\n",
        "\n",
        "    def on_batch_end(self, batch, logs={}):\n",
        "      self.losses.append(logs.get('loss'))\n",
        "      self.val_losses.append(logs.get('val_loss'))\n",
        "\n",
        "  loss_history_callback = LossHistory()\n",
        "\n",
        "  early_stopping_callback = EarlyStopping(monitor='loss',\n",
        "                                          patience=epoch_patience,\n",
        "                                          verbose=0,\n",
        "                                          mode='auto')\n",
        "  print(f'Started fitting at {str(time.localtime())}')\n",
        "\n",
        "  tuner.search(X,\n",
        "                y,\n",
        "                epochs=max_epochs,\n",
        "                validation_split=validation_split,\n",
        "                batch_size=batch_size,\n",
        "                verbose=1,\n",
        "                use_multiprocessing=True,\n",
        "                workers=6,\n",
        "                callbacks=[checkpoint,\n",
        "                            early_stopping_callback,\n",
        "                            loss_history_callback,],\n",
        "                shuffle=True)"
      ]
    },
    {
      "cell_type": "code",
      "execution_count": null,
      "metadata": {
        "id": "MMf9SSdXVX3a"
      },
      "outputs": [],
      "source": [
        "# Outputs for this cell are omitted\n",
        "train(tuner)"
      ]
    },
    {
      "cell_type": "code",
      "execution_count": null,
      "metadata": {
        "colab": {
          "base_uri": "https://localhost:8080/"
        },
        "id": "Rca2NKxVHyjq",
        "outputId": "120a88cc-991f-48ab-eeae-95288aef30d1"
      },
      "outputs": [
        {
          "name": "stdout",
          "output_type": "stream",
          "text": [
            "Results summary\n",
            "Results in training2/lstm_v1\n",
            "Showing 10 best trials\n",
            "Objective(name='val_loss', direction='min')\n",
            "Trial summary\n",
            "Hyperparameters:\n",
            "hidden_layer_size: 75\n",
            "use_amsgrad: True\n",
            "step_size: 0.010251181475689626\n",
            "tuner/epochs: 4\n",
            "tuner/initial_epoch: 2\n",
            "tuner/bracket: 4\n",
            "tuner/round: 1\n",
            "tuner/trial_id: 462f7bf4dea2954734aae885866e9815\n",
            "Score: 0.07739584147930145\n",
            "Trial summary\n",
            "Hyperparameters:\n",
            "hidden_layer_size: 100\n",
            "use_amsgrad: False\n",
            "step_size: 0.001205743203979354\n",
            "tuner/epochs: 4\n",
            "tuner/initial_epoch: 2\n",
            "tuner/bracket: 4\n",
            "tuner/round: 1\n",
            "tuner/trial_id: 0bf19f3f81219d325b5d37e73bd00ac9\n",
            "Score: 0.07741887122392654\n",
            "Trial summary\n",
            "Hyperparameters:\n",
            "hidden_layer_size: 125\n",
            "use_amsgrad: False\n",
            "step_size: 0.011660828851377899\n",
            "tuner/epochs: 4\n",
            "tuner/initial_epoch: 2\n",
            "tuner/bracket: 4\n",
            "tuner/round: 1\n",
            "tuner/trial_id: 140040edf78566697e1319ef13f45922\n",
            "Score: 0.07746527343988419\n",
            "Trial summary\n",
            "Hyperparameters:\n",
            "hidden_layer_size: 100\n",
            "use_amsgrad: True\n",
            "step_size: 0.0020072484410380053\n",
            "tuner/epochs: 4\n",
            "tuner/initial_epoch: 2\n",
            "tuner/bracket: 4\n",
            "tuner/round: 1\n",
            "tuner/trial_id: 0785aa22b106f8ae96c11c07e72f67c9\n",
            "Score: 0.07747827470302582\n",
            "Trial summary\n",
            "Hyperparameters:\n",
            "hidden_layer_size: 150\n",
            "use_amsgrad: False\n",
            "step_size: 0.004052296165353343\n",
            "tuner/epochs: 4\n",
            "tuner/initial_epoch: 2\n",
            "tuner/bracket: 4\n",
            "tuner/round: 1\n",
            "tuner/trial_id: 3a77dad29530c739a52c1ad4e34f8e2d\n",
            "Score: 0.07750922441482544\n",
            "Trial summary\n",
            "Hyperparameters:\n",
            "hidden_layer_size: 150\n",
            "use_amsgrad: False\n",
            "step_size: 0.0018921376223359756\n",
            "tuner/epochs: 4\n",
            "tuner/initial_epoch: 2\n",
            "tuner/bracket: 4\n",
            "tuner/round: 1\n",
            "tuner/trial_id: 1a66ce32e716c7d956a9f21c33c849ce\n",
            "Score: 0.07753481715917587\n",
            "Trial summary\n",
            "Hyperparameters:\n",
            "hidden_layer_size: 125\n",
            "use_amsgrad: True\n",
            "step_size: 0.005805762243588239\n",
            "tuner/epochs: 4\n",
            "tuner/initial_epoch: 2\n",
            "tuner/bracket: 4\n",
            "tuner/round: 1\n",
            "tuner/trial_id: 239d6ace437a08bce3bf764870bca33d\n",
            "Score: 0.07753530144691467\n",
            "Trial summary\n",
            "Hyperparameters:\n",
            "hidden_layer_size: 200\n",
            "use_amsgrad: True\n",
            "step_size: 0.0005298457242236569\n",
            "tuner/epochs: 4\n",
            "tuner/initial_epoch: 2\n",
            "tuner/bracket: 4\n",
            "tuner/round: 1\n",
            "tuner/trial_id: 7c4dcd2c0a8cd000e9dc9a2137ec8aac\n",
            "Score: 0.07760658115148544\n",
            "Trial summary\n",
            "Hyperparameters:\n",
            "hidden_layer_size: 125\n",
            "use_amsgrad: True\n",
            "step_size: 0.0008602594275822552\n",
            "tuner/epochs: 4\n",
            "tuner/initial_epoch: 2\n",
            "tuner/bracket: 4\n",
            "tuner/round: 1\n",
            "tuner/trial_id: e3c2ad1ad7ed03da8daab329e0924172\n",
            "Score: 0.07760859280824661\n",
            "Trial summary\n",
            "Hyperparameters:\n",
            "hidden_layer_size: 75\n",
            "use_amsgrad: False\n",
            "step_size: 0.0010681950246151713\n",
            "tuner/epochs: 4\n",
            "tuner/initial_epoch: 2\n",
            "tuner/bracket: 4\n",
            "tuner/round: 1\n",
            "tuner/trial_id: 7793dc52e475201ac973f4221a214b05\n",
            "Score: 0.07780491560697556\n"
          ]
        }
      ],
      "source": [
        "# Get the best model found during hyperparameter tuning\n",
        "model: k.Sequential = tuner.get_best_models()[0]\n",
        "tuner.results_summary()"
      ]
    },
    {
      "cell_type": "markdown",
      "metadata": {
        "id": "KYFVlvvSKLrD"
      },
      "source": [
        "### Results\n",
        "\n",
        "Unfortunately, this model did not perform much better than the Random Forest Regressor. It also simply found the mean answer score ratio."
      ]
    },
    {
      "cell_type": "code",
      "execution_count": null,
      "metadata": {
        "colab": {
          "base_uri": "https://localhost:8080/"
        },
        "id": "nBvE5WHanksz",
        "outputId": "a3d902b6-8126-46e4-8f67-d1abd0db04c6"
      },
      "outputs": [
        {
          "name": "stdout",
          "output_type": "stream",
          "text": [
            "Prediction mean: 0.14, standard dev: 0.01\n",
            "Expected mean: 0.14, standard dev: 0.28\n"
          ]
        }
      ],
      "source": [
        "y_predicted = model.predict(X)\n",
        "amean = np.mean(y_predicted)\n",
        "astd = np.std(y_predicted)\n",
        "\n",
        "emean = np.mean(y)\n",
        "estd = np.std(y)\n",
        "\n",
        "print(f'Prediction mean: {amean:.2f}, standard dev: {astd:.2f}')\n",
        "print(f'Expected mean: {emean:.2f}, standard dev: {estd:.2f}')"
      ]
    },
    {
      "cell_type": "code",
      "execution_count": null,
      "metadata": {
        "colab": {
          "base_uri": "https://localhost:8080/",
          "height": 312
        },
        "id": "nHsk7gV4pDY_",
        "outputId": "713ab4a3-8c0d-43d2-f16f-e337bea0d5c7"
      },
      "outputs": [
        {
          "data": {
            "text/plain": [
              "Text(0, 0.5, 'Actual')"
            ]
          },
          "execution_count": 87,
          "metadata": {},
          "output_type": "execute_result"
        },
        {
          "data": {
            "image/png": "[encoded data removed]",
            "text/plain": [
              "<Figure size 432x288 with 1 Axes>"
            ]
          },
          "metadata": {
            "needs_background": "light"
          },
          "output_type": "display_data"
        }
      ],
      "source": [
        "# Graph the results\n",
        "fig, ax = plt.subplots()\n",
        "ax.scatter(y_predicted, y, edgecolors=(0, 0, 1))\n",
        "ax.plot([y_test.min(), y_test.max()], [y_test.min(), y_test.max()], 'r--', lw=3)\n",
        "\n",
        "plt.xlim(-1, 1)\n",
        "plt.ylim(-1, 1)\n",
        "\n",
        "ax.set_title('Answer Score Prediction with LSTM Regression')\n",
        "ax.set_xlabel('Predicted')\n",
        "ax.set_ylabel('Actual')"
      ]
    },
    {
      "cell_type": "markdown",
      "metadata": {
        "id": "yF4-ngCVWByZ"
      },
      "source": [
        "## LSTM v2\n",
        "\n",
        "This final model uses a stacked LSTM. The output sequence from the first LSTM layer is piped into the second layer, with a dropout layer inbetween them to reduce overfitting. Additionally, a dense layer is added before and after the LSTM stack."
      ]
    },
    {
      "cell_type": "code",
      "execution_count": null,
      "metadata": {
        "colab": {
          "base_uri": "https://localhost:8080/"
        },
        "id": "7ygQQ4gxgwpj",
        "outputId": "6259e432-59e3-4ccc-9220-d4205ff1190a"
      },
      "outputs": [
        {
          "name": "stdout",
          "output_type": "stream",
          "text": [
            "INFO:tensorflow:Reloading Oracle from existing project training/lstm_v2/oracle.json\n",
            "Search space summary\n",
            "Default search space size: 8\n",
            "pre_lstm_dense_layer_count (Int)\n",
            "{'default': None, 'conditions': [], 'min_value': 0, 'max_value': 8, 'step': 1, 'sampling': None}\n",
            "lstm1_hidden_layer_size (Int)\n",
            "{'default': None, 'conditions': [], 'min_value': 50, 'max_value': 200, 'step': 25, 'sampling': None}\n",
            "inter_lstm_dropout_rate (Float)\n",
            "{'default': 0.0, 'conditions': [], 'min_value': 0.0, 'max_value': 0.02, 'step': None, 'sampling': 'linear'}\n",
            "lstm2_hidden_layer1_size (Int)\n",
            "{'default': None, 'conditions': [], 'min_value': 50, 'max_value': 200, 'step': 25, 'sampling': None}\n",
            "use_amsgrad (Boolean)\n",
            "{'default': False, 'conditions': []}\n",
            "optimizer_learning_rate (Float)\n",
            "{'default': 0.0001, 'conditions': [], 'min_value': 0.0001, 'max_value': 0.02, 'step': None, 'sampling': 'log'}\n",
            "pre_lstm_units (Int)\n",
            "{'default': None, 'conditions': [], 'min_value': 5, 'max_value': 100, 'step': 5, 'sampling': None}\n",
            "post_lstm_units (Int)\n",
            "{'default': None, 'conditions': [], 'min_value': 5, 'max_value': 100, 'step': 5, 'sampling': None}\n"
          ]
        }
      ],
      "source": [
        "def build_lstm_v2(hp: kt.HyperParameters) -> k.Sequential:\n",
        "  model: k.Sequential = keras.Sequential()\n",
        "  model.add(layers.Input(shape=(toks_per_seq, vocab_len)))\n",
        "\n",
        "  # A single dense layer between the input and the LTSMs\n",
        "  model.add(layers.Dense(name='pre_lstm',\n",
        "                          units=hp.Int('pre_lstm_units',\n",
        "                                      min_value=5,\n",
        "                                      max_value=100,\n",
        "                                      step=5)))\n",
        "    \n",
        "  # This time, there are two LTSMs. Rather than just outputting the last tensor\n",
        "  # in the sequence, the first one outputs _every_ token. This is fed into\n",
        "  # another LTSM (with a droput layer between them to reduce overfitting)\n",
        "\n",
        "  # LTSM 1\n",
        "  layer_size1 = hp.Int('lstm1_hidden_layer_size',\n",
        "                          min_value=50,\n",
        "                          max_value=200,\n",
        "                          step=25)\n",
        "  model.add(layers.LSTM(units=layer_size1,\n",
        "              return_sequences=True,\n",
        "              name='tok-lstm-1'))\n",
        "  \n",
        "  # Intemediate dropout\n",
        "  dropout_rate = hp.Float('inter_lstm_dropout_rate',\n",
        "                        min_value=0.0,\n",
        "                        max_value=0.02,\n",
        "                        sampling='linear')\n",
        "  model.add(layers.Dropout(dropout_rate))\n",
        "  \n",
        "  # LTSM 2\n",
        "  layer_size2 = hp.Int('lstm2_hidden_layer1_size',\n",
        "                            min_value=50,\n",
        "                            max_value=200,\n",
        "                            step=25)\n",
        "  model.add(layers.LSTM(units=layer_size2,\n",
        "              return_sequences=False,\n",
        "              name='tok-lstm-2'))\n",
        "\n",
        "  # Another dense layer after the LTSM stack for good measure\n",
        "  model.add(layers.Dense(name='post_lstm',\n",
        "                          units=hp.Int('post_lstm_units',\n",
        "                                      min_value=5,\n",
        "                                      max_value=100,\n",
        "                                      step=5)))\n",
        "  model.add(layers.Dense(1, activation='tanh', name='output'))\n",
        "\n",
        "  # Optimizer setup\n",
        "  use_amsgrad = hp.Boolean('use_amsgrad')\n",
        "  learning_rate = hp.Float('optimizer_learning_rate',\n",
        "                           0.0001,\n",
        "                           0.02,\n",
        "                           sampling='log')\n",
        "  optimizer = keras.optimizers.Adam(learning_rate, amsgrad=use_amsgrad)\n",
        "\n",
        "  # Compile the model and return the result\n",
        "  model.compile(optimizer=optimizer,\n",
        "                loss='mse',\n",
        "                metrics=['accuracy'])\n",
        "  return model\n",
        "\n",
        "tuner2 = kt.Hyperband(build_lstm_v2,\n",
        "                     objective='val_loss',\n",
        "                     max_epochs=max_epochs,\n",
        "                     factor=3,\n",
        "                     seed=random_state,\n",
        "                     directory='training',\n",
        "                     project_name='lstm_v2')\n",
        "\n",
        "tuner2.search_space_summary()"
      ]
    },
    {
      "cell_type": "markdown",
      "metadata": {
        "id": "QdUX4hG3KtpD"
      },
      "source": [
        "### Training the Stacked LSTM"
      ]
    },
    {
      "cell_type": "code",
      "execution_count": null,
      "metadata": {
        "id": "Ue42zBptXq72"
      },
      "outputs": [],
      "source": [
        "# Output omitted\n",
        "train(tuner2)"
      ]
    },
    {
      "cell_type": "code",
      "execution_count": null,
      "metadata": {
        "colab": {
          "base_uri": "https://localhost:8080/"
        },
        "id": "o32xAnXgJ4_5",
        "outputId": "e84ef39a-5e31-4ad8-dce2-d813eb5a0df0"
      },
      "outputs": [
        {
          "name": "stdout",
          "output_type": "stream",
          "text": [
            "Results summary\n",
            "Results in training/lstm_v2\n",
            "Showing 10 best trials\n",
            "Objective(name='val_loss', direction='min')\n",
            "Trial summary\n",
            "Hyperparameters:\n",
            "pre_lstm_dense_layer_count: 5\n",
            "lstm1_hidden_layer_size: 100\n",
            "inter_lstm_dropout_rate: 0.016497094673848668\n",
            "lstm2_hidden_layer1_size: 175\n",
            "use_amsgrad: False\n",
            "optimizer_learning_rate: 0.007332370781790844\n",
            "pre_lstm_units: 45\n",
            "post_lstm_units: 15\n",
            "tuner/epochs: 2\n",
            "tuner/initial_epoch: 0\n",
            "tuner/bracket: 4\n",
            "tuner/round: 0\n",
            "Score: 0.07736396044492722\n",
            "Trial summary\n",
            "Hyperparameters:\n",
            "pre_lstm_dense_layer_count: 5\n",
            "lstm1_hidden_layer_size: 100\n",
            "inter_lstm_dropout_rate: 0.016497094673848668\n",
            "lstm2_hidden_layer1_size: 175\n",
            "use_amsgrad: False\n",
            "optimizer_learning_rate: 0.007332370781790844\n",
            "pre_lstm_units: 45\n",
            "post_lstm_units: 15\n",
            "tuner/epochs: 4\n",
            "tuner/initial_epoch: 2\n",
            "tuner/bracket: 4\n",
            "tuner/round: 1\n",
            "tuner/trial_id: 5fc8c54ab1d7d800a68197fc50d9f830\n",
            "Score: 0.0773647129535675\n",
            "Trial summary\n",
            "Hyperparameters:\n",
            "pre_lstm_dense_layer_count: 1\n",
            "lstm1_hidden_layer_size: 175\n",
            "inter_lstm_dropout_rate: 0.004747704789512395\n",
            "lstm2_hidden_layer1_size: 100\n",
            "use_amsgrad: False\n",
            "optimizer_learning_rate: 0.007970046767439865\n",
            "pre_lstm_units: 20\n",
            "post_lstm_units: 5\n",
            "tuner/epochs: 2\n",
            "tuner/initial_epoch: 0\n",
            "tuner/bracket: 4\n",
            "tuner/round: 0\n",
            "Score: 0.07736850529909134\n",
            "Trial summary\n",
            "Hyperparameters:\n",
            "pre_lstm_dense_layer_count: 6\n",
            "lstm1_hidden_layer_size: 125\n",
            "inter_lstm_dropout_rate: 0.005077859611220701\n",
            "lstm2_hidden_layer1_size: 100\n",
            "use_amsgrad: False\n",
            "optimizer_learning_rate: 0.006039717077271049\n",
            "pre_lstm_units: 15\n",
            "post_lstm_units: 40\n",
            "tuner/epochs: 2\n",
            "tuner/initial_epoch: 0\n",
            "tuner/bracket: 4\n",
            "tuner/round: 0\n",
            "Score: 0.0773710384964943\n",
            "Trial summary\n",
            "Hyperparameters:\n",
            "pre_lstm_dense_layer_count: 3\n",
            "lstm1_hidden_layer_size: 175\n",
            "inter_lstm_dropout_rate: 0.013357679493123768\n",
            "lstm2_hidden_layer1_size: 75\n",
            "use_amsgrad: False\n",
            "optimizer_learning_rate: 0.004569482659320473\n",
            "pre_lstm_units: 95\n",
            "post_lstm_units: 35\n",
            "tuner/epochs: 2\n",
            "tuner/initial_epoch: 0\n",
            "tuner/bracket: 4\n",
            "tuner/round: 0\n",
            "Score: 0.07737130671739578\n",
            "Trial summary\n",
            "Hyperparameters:\n",
            "pre_lstm_dense_layer_count: 6\n",
            "lstm1_hidden_layer_size: 75\n",
            "inter_lstm_dropout_rate: 0.0165875412309362\n",
            "lstm2_hidden_layer1_size: 100\n",
            "use_amsgrad: True\n",
            "optimizer_learning_rate: 0.012340585861871827\n",
            "pre_lstm_units: 30\n",
            "post_lstm_units: 90\n",
            "tuner/epochs: 2\n",
            "tuner/initial_epoch: 0\n",
            "tuner/bracket: 4\n",
            "tuner/round: 0\n",
            "Score: 0.07737353444099426\n",
            "Trial summary\n",
            "Hyperparameters:\n",
            "pre_lstm_dense_layer_count: 2\n",
            "lstm1_hidden_layer_size: 100\n",
            "inter_lstm_dropout_rate: 0.003926331738640687\n",
            "lstm2_hidden_layer1_size: 100\n",
            "use_amsgrad: False\n",
            "optimizer_learning_rate: 0.0028497464423805127\n",
            "pre_lstm_units: 90\n",
            "post_lstm_units: 95\n",
            "tuner/epochs: 4\n",
            "tuner/initial_epoch: 2\n",
            "tuner/bracket: 4\n",
            "tuner/round: 1\n",
            "tuner/trial_id: eef5217e333c83ab08b6c73c4f388e51\n",
            "Score: 0.07737796753644943\n",
            "Trial summary\n",
            "Hyperparameters:\n",
            "pre_lstm_dense_layer_count: 2\n",
            "lstm1_hidden_layer_size: 75\n",
            "inter_lstm_dropout_rate: 0.01841046431214252\n",
            "lstm2_hidden_layer1_size: 75\n",
            "use_amsgrad: True\n",
            "optimizer_learning_rate: 0.0006316231281972829\n",
            "pre_lstm_units: 5\n",
            "post_lstm_units: 75\n",
            "tuner/epochs: 2\n",
            "tuner/initial_epoch: 0\n",
            "tuner/bracket: 4\n",
            "tuner/round: 0\n",
            "Score: 0.07737983018159866\n",
            "Trial summary\n",
            "Hyperparameters:\n",
            "pre_lstm_dense_layer_count: 0\n",
            "lstm1_hidden_layer_size: 150\n",
            "inter_lstm_dropout_rate: 0.015187274447003574\n",
            "lstm2_hidden_layer1_size: 150\n",
            "use_amsgrad: False\n",
            "optimizer_learning_rate: 0.007383716925961808\n",
            "pre_lstm_units: 50\n",
            "post_lstm_units: 5\n",
            "tuner/epochs: 2\n",
            "tuner/initial_epoch: 0\n",
            "tuner/bracket: 4\n",
            "tuner/round: 0\n",
            "Score: 0.07738808542490005\n",
            "Trial summary\n",
            "Hyperparameters:\n",
            "pre_lstm_dense_layer_count: 1\n",
            "lstm1_hidden_layer_size: 100\n",
            "inter_lstm_dropout_rate: 0.005329094563766399\n",
            "lstm2_hidden_layer1_size: 175\n",
            "use_amsgrad: False\n",
            "optimizer_learning_rate: 0.007542415522033494\n",
            "pre_lstm_units: 50\n",
            "post_lstm_units: 25\n",
            "tuner/epochs: 2\n",
            "tuner/initial_epoch: 0\n",
            "tuner/bracket: 4\n",
            "tuner/round: 0\n",
            "Score: 0.07739077508449554\n"
          ]
        }
      ],
      "source": [
        "model2: k.Sequential = tuner2.get_best_models()[0]\n",
        "tuner2.results_summary()"
      ]
    },
    {
      "cell_type": "markdown",
      "metadata": {
        "id": "EtN9QX5FKx51"
      },
      "source": [
        "### Results\n",
        "\n",
        "Once again, this model was unable to detect patterns in the code snippets, only finding the mean score ratio."
      ]
    },
    {
      "cell_type": "code",
      "execution_count": null,
      "metadata": {
        "colab": {
          "base_uri": "https://localhost:8080/"
        },
        "id": "FX6JOFUxJ_Xd",
        "outputId": "b8193de0-8530-435e-9da6-9bfc20289dba"
      },
      "outputs": [
        {
          "name": "stdout",
          "output_type": "stream",
          "text": [
            "Prediction mean: 0.14, standard dev: 0.00\n",
            "Expected mean: 0.14, standard dev: 0.28\n"
          ]
        }
      ],
      "source": [
        "y_predicted = model2.predict(X)\n",
        "amean = np.mean(y_predicted)\n",
        "astd = np.std(y_predicted)\n",
        "\n",
        "emean = np.mean(y)\n",
        "estd = np.std(y)\n",
        "\n",
        "print(f'Prediction mean: {amean:.2f}, standard dev: {astd:.2f}')\n",
        "print(f'Expected mean: {emean:.2f}, standard dev: {estd:.2f}')"
      ]
    },
    {
      "cell_type": "code",
      "execution_count": null,
      "metadata": {
        "colab": {
          "base_uri": "https://localhost:8080/",
          "height": 312
        },
        "id": "Id_WpouoKCs0",
        "outputId": "77e07f16-63ea-4094-b5f2-6f74fc5ec306"
      },
      "outputs": [
        {
          "data": {
            "text/plain": [
              "Text(0, 0.5, 'Actual')"
            ]
          },
          "execution_count": 42,
          "metadata": {},
          "output_type": "execute_result"
        },
        {
          "data": {
            "image/png": "[encoded data removed]",
            "text/plain": [
              "<Figure size 432x288 with 1 Axes>"
            ]
          },
          "metadata": {
            "needs_background": "light"
          },
          "output_type": "display_data"
        }
      ],
      "source": [
        "y_test = df['score_ratio_norm']\n",
        "fig, ax = plt.subplots()\n",
        "ax.scatter(y_predicted, y, edgecolors=(0, 0, 1))\n",
        "ax.plot([y_test.min(), y_test.max()], [y_test.min(), y_test.max()], 'r--', lw=3)\n",
        "\n",
        "plt.xlim(-1, 1)\n",
        "plt.ylim(-1, 1)\n",
        "\n",
        "ax.set_title('Answer Score Prediction with Stacked LSTM Regression')\n",
        "ax.set_xlabel('Predicted')\n",
        "ax.set_ylabel('Actual')"
      ]
    },
    {
      "cell_type": "markdown",
      "metadata": {
        "id": "O6XyZeRPK9vY"
      },
      "source": [
        "# Conclusion\n",
        "\n",
        "After training a Random Forest and two different LSTM models, I found that these models were unable to predict answer scores. I have several hypotheses for why this is the case.\n",
        "\n",
        "My first hypothesis is that not enough information was present in the data for pattern detection, as only the token types were used. Better results may be achieved by encoding both the token's type and its value. My second hypothesis is that Random Forests and LSTMs are insufficiently complex to detect patterns in source code. Answering these questions requires further research, and may be an interesting project for further work."
      ]
    },
    {
      "cell_type": "code",
      "execution_count": null,
      "metadata": {
        "id": "3VmpuiJNL-jU"
      },
      "outputs": [],
      "source": []
    }
  ],
  "metadata": {
    "accelerator": "GPU",
    "colab": {
      "collapsed_sections": [],
      "machine_shape": "hm",
      "name": "CMSC320 LSTM.ipynb",
      "provenance": [],
      "toc_visible": true
    },
    "kernelspec": {
      "display_name": "Python 3",
      "name": "python3"
    },
    "language_info": {
      "name": "python"
    }
  },
  "nbformat": 4,
  "nbformat_minor": 0
}
